{
 "cells": [
  {
   "cell_type": "code",
   "execution_count": 1,
   "id": "791c8638",
   "metadata": {},
   "outputs": [],
   "source": [
    "import openpyxl\n",
    "from docxtpl import DocxTemplate\n",
    "\n",
    "wb = openpyxl.load_workbook(filename='program_2.xlsx')\n",
    "sheet = wb['ПРОТОКОЛ']\n",
    "\n",
    "doc = DocxTemplate('test.docx')\n",
    "\n",
    "for num in range(1,6):\n",
    "    \n",
    "    name = sheet['B'+str(num)].value\n",
    "    \n",
    "    if sheet['R'+str(num)].value == 'Л-1':\n",
    "        stepen = 'I'\n",
    "    elif sheet['R'+str(num)].value == 'Л-2':\n",
    "        stepen = 'II'\n",
    "    elif sheet['R'+str(num)].value == 'Л-3':\n",
    "        stepen = 'III'\n",
    "        \n",
    "    composition = sheet['C'+str(num)].value\n",
    "    ruk = sheet['F'+str(num)].value\n",
    "    \n",
    "    context = {'stepen':stepen, 'name':name, 'composition':composition, 'ruk':ruk }\n",
    "    \n",
    "    doc.render(context)\n",
    "    doc.save(str(num)+'-final.docx')"
   ]
  },
  {
   "cell_type": "code",
   "execution_count": null,
   "id": "948ad75b",
   "metadata": {},
   "outputs": [],
   "source": []
  }
 ],
 "metadata": {
  "kernelspec": {
   "display_name": "Python 3 (ipykernel)",
   "language": "python",
   "name": "python3"
  },
  "language_info": {
   "codemirror_mode": {
    "name": "ipython",
    "version": 3
   },
   "file_extension": ".py",
   "mimetype": "text/x-python",
   "name": "python",
   "nbconvert_exporter": "python",
   "pygments_lexer": "ipython3",
   "version": "3.10.9"
  }
 },
 "nbformat": 4,
 "nbformat_minor": 5
}
