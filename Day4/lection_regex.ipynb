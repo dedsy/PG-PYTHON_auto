{
 "cells": [
  {
   "cell_type": "code",
   "execution_count": 1,
   "id": "18022345",
   "metadata": {},
   "outputs": [
    {
     "name": "stdout",
     "output_type": "stream",
     "text": [
      "Последовательность \n",
      "используется для переноса строк\n",
      "_________________\n",
      "Последовательность \\n используется для переноса строк\n"
     ]
    }
   ],
   "source": [
    "common_string = \"Последовательность \\n используется для переноса строк\" # Обычная строка\n",
    "raw_string = r\"Последовательность \\n используется для переноса строк\" # Сырая строка\n",
    "print(common_string) \n",
    "print('_________________')\n",
    "print(raw_string)"
   ]
  },
  {
   "cell_type": "code",
   "execution_count": 1,
   "id": "35ae3860",
   "metadata": {},
   "outputs": [
    {
     "name": "stdout",
     "output_type": "stream",
     "text": [
      "{a} + {b} = {a + b}\n",
      "5! = 120\n"
     ]
    }
   ],
   "source": [
    "a = 1\n",
    "b = 2\n",
    "# Добавляем выражения в строку с помощью специального синтаксиса {}\n",
    "print(f\"{a} + {b} = {a + b}\")\n",
    "print(f\"5! = {1 * 2 * 3 * 4 * 5}\")"
   ]
  },
  {
   "cell_type": "code",
   "execution_count": 3,
   "id": "123eadf8",
   "metadata": {},
   "outputs": [
    {
     "name": "stdout",
     "output_type": "stream",
     "text": [
      "Последовательность \\n используется для переноса строк 1\n",
      "Последовательность \\n используется для переноса строк 2\n"
     ]
    }
   ],
   "source": [
    "# Используем 2 префикса одновременно:\n",
    "raw_f_string = rf\"Последовательность \\n используется для переноса строк {a}\"\n",
    "f_raw_string = fr\"Последовательность \\n используется для переноса строк {b}\"\n",
    "print(raw_f_string, f_raw_string, sep = '\\n')"
   ]
  },
  {
   "cell_type": "code",
   "execution_count": 13,
   "id": "da56e99d",
   "metadata": {},
   "outputs": [
    {
     "name": "stdout",
     "output_type": "stream",
     "text": [
      "Переносим \\n строку\n",
      "\n",
      "Переносим \n",
      " строку\n"
     ]
    }
   ],
   "source": [
    "# Вместо символа \\n мы получим переход на новую строку\n",
    "print(\"Переносим \\\\n строку\")\n",
    "print()\n",
    "print(\"Переносим \\n строку\")"
   ]
  },
  {
   "cell_type": "code",
   "execution_count": 57,
   "id": "6792c19d",
   "metadata": {},
   "outputs": [
    {
     "name": "stdout",
     "output_type": "stream",
     "text": [
      "\\\n"
     ]
    }
   ],
   "source": [
    "# Вместо \\\\' получаем вывод \\'\n",
    "# Первый \\ экранирует второй \\, и он исчезает из вывода \n",
    "print(\"\\\\\")"
   ]
  },
  {
   "cell_type": "code",
   "execution_count": 5,
   "id": "ad76d616",
   "metadata": {},
   "outputs": [
    {
     "name": "stdout",
     "output_type": "stream",
     "text": [
      "Переносим\\nстроку\n",
      "\\''\n",
      "\\\\''\n"
     ]
    }
   ],
   "source": [
    "# Теперь тут выводится строка: Переносим\\nстроку\n",
    "print(\"Переносим\\\\nстроку\")\n",
    "\n",
    "# Вместо вывода, который мы ожидали, снова получаем такой: \\\n",
    "print(\"\\\\\\''\")\n",
    "\n",
    "# Для того, чтобы исправить эту ситуацию, добавим ещё один обратный слеш!\n",
    "print(\"\\\\\\\\''\")\n",
    "# И только сейчас мы получим вывод: \\\\"
   ]
  },
  {
   "cell_type": "code",
   "execution_count": 19,
   "id": "44274081",
   "metadata": {},
   "outputs": [
    {
     "name": "stdout",
     "output_type": "stream",
     "text": [
      "Переносим\\nстроку\n",
      "\\\\'\n",
      "\\\\\\'\n",
      "\\\\\\\\'\n"
     ]
    }
   ],
   "source": [
    "# Отключаем экранирование всей строки префиксом r:\n",
    "print(r\"Переносим\\nстроку\")\n",
    "print(r\"\\\\'\")\n",
    "print(r\"\\\\\\'\")\n",
    "print(r\"\\\\\\\\'\")"
   ]
  },
  {
   "cell_type": "code",
   "execution_count": null,
   "id": "2e6f2f34",
   "metadata": {},
   "outputs": [],
   "source": [
    "1) Если мы хотим заменить несколько символов, мы можем использовать такой синтаксис с квадратными скобками:\n",
    "\n",
    "r'[cr1]'     # Найдёт c, r, и 1\n",
    "r'[cr]at'    # Найдёт слова cat и rat\n",
    "r'[12]7[56]' # Найдёт 175, 176, 275, 276\n",
    "\n",
    "От перестановки символов смысл не меняется:\n",
    "\n",
    "r'[cr1]' # Найдёт c, r, и 1\n",
    "r'[rc1]' # Найдёт c, r, и 1\n",
    "r'[1cr]' # Найдёт c, r, и 1\n",
    "r'[1rc]' # Найдёт c, r, и 1\n",
    "r'[c1r]' # Найдёт c, r, и 1\n",
    "r'[r1c]' # Найдёт c, r, и 1\n",
    "# Все регулярные выражения сверху выдают один и тот же результат\n",
    "\n",
    "2) Если мы хотим исключить какие-либо символы, мы можем использовать скобки так:\n",
    "\n",
    "r'[^12]'  # Найдёт всё, кроме 1 и 2\n",
    "r'[^12]7' # Найдёт все последовательности, что заканчиваются на 7, и не начинаются на 1 и 2\n",
    "\n",
    "Достаточно перед символами, которые мы хотим исключить, прописать символ ^.\n",
    "\n",
    "Если символ ^ не стоит в начале скобок или он экранирован - он воспринимается как обычный текст:\n",
    "\n",
    "r'[0^]_[0^]' # Найдёт 0_0, 0_^, ^_0, ^_^\n",
    "r'[\\^0]_[\\^0]' # Найдёт 0_0, 0_^, ^_0, ^_^\n",
    "\n",
    "3) Регулярное выражение в скобках можно сократить вот так:\n",
    "\n",
    "r'[0-9]' # То же самое, что и [0123456789]\n",
    "r'[a-z]' # То же самое, что и [abcdefghijklmnopqrstuvwxyz]\n",
    "r'[A-Z]' # То же самое, что и [ABCDEFGHIJKLMNOPQRSTUVWXYZ]\n",
    "r'[а-я]' # То же самое, что и [абвгдежзийклмнопрстуфхцчшщъыьэюя]\n",
    "r'[А-Я]' # То же самое, что и [АБВГДЕЖЗИЙКЛМНОПРСТУФХЦЧШЩЪЫЬЭЮЯ]\n",
    "\n",
    "Можно получать неполный алфавит, или не все цифры:\n",
    "\n",
    "r'[4-7]' # То же самое, что и [4567]\n",
    "r'[x-z]' # То же самое, что и [xyz]\n",
    "r'[B-D]' # То же самое, что и [BCD]\n",
    "r'[а-ж]' # То же самое, что и [абвгдеж]\n",
    "r'[П-Т]' # То же самое, что и [ПРСТ]\n",
    "r'[6-D]' # То же самое, что и [6789ABCD]\n",
    "\n",
    "А также совмещать синтаксис:\n",
    "\n",
    "r'[4-7qwerty]' # То же самое, что и [qwerty4567]\n",
    "r'[23x-z1]'    # То же самое, что и [xyz123]\n",
    "r'[B-DF]'      # То же самое, что и [BCDF]\n",
    "\n",
    "Распространённая ошибка: регулярное выражение [21-47] не найдёт числа от 21 до 47, оно будет равносильно выражению [212347].\n",
    "\n",
    "Чтобы использовать - как обычный символ - его достаточно экранировать или поставить в конец или начало скобок:\n",
    "\n",
    "r'[4\\-7]' # Найдёт 4, -, и 7\n",
    "r'[-xz]'  # Найдёт -, x, и z\n",
    "r'[^-xz]' # Найдёт всё, кроме -, x, и z\n",
    "r'[BD-]'  # Найдёт B, D, и -\n",
    "4) Исключение символов можно тоже сократить:\n",
    "\n",
    "r'[^0-9]' # То же самое, что и [^0123456789]\n",
    "r'[^a-z]' # То же самое, что и [^abcdefghijklmnopqrstuvwxyz]\n",
    "r'[^A-Z]' # То же самое, что и [^ABCDEFGHIJKLMNOPQRSTUVWXYZ]\n",
    "r'[^а-я]' # То же самое, что и [^абвгдежзийклмнопрстуфхцчшщъыьэюя]\n",
    "r'[^А-Я]' # То же самое, что и [^АБВГДЕЖЗИЙКЛМНОПРСТУФХЦЧШЩЪЫЬЭЮЯ]\n",
    "\n",
    "Можно исключать неполный алфавит, или не все цифры:\n",
    "\n",
    "r'[^4-7]' # То же самое, что и [^4567]\n",
    "r'[^x-z]' # То же самое, что и [^xyz]\n",
    "r'[^B-D]' # То же самое, что и [^BCD]\n",
    "r'[^а-ж]' # То же самое, что и [^абвгдеж]\n",
    "r'[^П-Т]' # То же самое, что и [^ПРСТ]\n",
    "r'[^6-D]' # То же самое, что и [^6789ABCD]\n",
    "Ну и совмещать:\n",
    "\n",
    "r'[^4-7qwerty]' # То же самое, что и [^qwerty4567]\n",
    "r'[^23x-z1]'    # То же самое, что и [^xyz123]\n",
    "r'[^B-DF]'      # То же самое, что и [^BCDF]\n",
    "5) Можно использовать столько сокращений, сколько мы захотим:\n",
    "\n",
    "r'[a-zA-Z0-9]' # То же самое, что [abcdefghijklmnopqrstuvwxyzABCDEFGHIJKLMNOPQRSTUVWXYZ0123456789]\n",
    "r'[^э-я1-3]'   # То же самое, что и [^эюя123]\n",
    "6) Если квадратные скобки нужно использовать как обычный текст - достаточно их просто экранировать:\n",
    "\n",
    "r'\\[\\]' # Найдет []\n",
    "Обратите внимание, что шаблон [а-яА-Я] не захватывает буквы ё и Ё. Если они вам понадобятся - придётся указывать их вручную: [а-яА-ЯёЁ]."
   ]
  },
  {
   "cell_type": "code",
   "execution_count": null,
   "id": "2b595fd0",
   "metadata": {},
   "outputs": [],
   "source": [
    "Некоторые спецсимволы, например такие: $^.-[], используются по-разному в регулярных выражениях в зависимости от контекста:\n",
    "\n",
    "$\n",
    "\n",
    "r'[A$Z]'  # Ищет символы A,$,Z\n",
    "r'^text$' # Ищет text между началом и концом строки (срока либо начинается либо заканчивается на text)\n",
    "r'100\\$'  # Ищет 100$\n",
    "\n",
    "^\n",
    "\n",
    "r\"[^abc]\"      # Ищет любой символ, кроме a,b,c\n",
    "r\"^Some text$\" # Ищет Some text между началом и концом строки\n",
    "r\"\\^\"          # Ищет символ ^ \n",
    "r\"[a^bc]\"      # Символ ^ не стоит первым в скобках, поэтому выражение ищет символы a,b,c,^\n",
    "\n",
    ".\n",
    "\n",
    "r'[A.Z]'     # Ищет символы A,.,Z\n",
    "r'text.'     # Ищет text с любым символом, кроме перехода на новую строку: text1 text4 textr textu text?\n",
    "r'1\\.000\\$'  # Ищет 1.000$\n",
    "\n",
    "-\n",
    "\n",
    "r'Как-то так' # Ищет Как-то так\n",
    "r'[+-]'       # Ищет символы +,-\n",
    "r'[^-+]'      # Ищет любой символ, кроме +, -\n",
    "r'[a-z]'      # Ищет все буквы латинского алфавита в нижнем регистре\n",
    "r'[a\\-z]'     # Ищет символы a,-,z\n",
    "\n",
    "[]\n",
    "\n",
    "r'[abc]'   # Ищет символы a,b,c\n",
    "r'\\[abc\\]' # Ищет [abc]\n",
    "r'[\\[abc\\]]' # Ищет символы [,a,b,c,]\n"
   ]
  },
  {
   "cell_type": "code",
   "execution_count": null,
   "id": "65be4d17",
   "metadata": {},
   "outputs": [],
   "source": [
    "Очень часто, когда нужно использовать несколько шаблонов подряд, приходится их писать друг за другом. Например, если мы хотим найти 3 цифры подряд мы напишем:\n",
    "\n",
    "r'\\d\\d\\d'\n",
    "\n",
    "Но теперь, мы можем сократить эту запись вот так, используя квантификаторы:\n",
    "\n",
    "r'\\d{3}'"
   ]
  },
  {
   "cell_type": "code",
   "execution_count": 6,
   "id": "5e316ec9",
   "metadata": {},
   "outputs": [],
   "source": [
    "import re"
   ]
  },
  {
   "cell_type": "code",
   "execution_count": 22,
   "id": "26c29c09",
   "metadata": {},
   "outputs": [
    {
     "name": "stdout",
     "output_type": "stream",
     "text": [
      "<re.Match object; span=(0, 6), match='Привет'>\n"
     ]
    }
   ],
   "source": [
    "pattern = 'Привет'\n",
    "string = 'Привет, как твои дела? Привет, нормально, учу регулярные выражения.'\n",
    "\n",
    "result = re.match(pattern, string)\n",
    "\n",
    "print(str(result))"
   ]
  },
  {
   "cell_type": "code",
   "execution_count": 8,
   "id": "63a07fe2",
   "metadata": {},
   "outputs": [
    {
     "name": "stdout",
     "output_type": "stream",
     "text": [
      "<re.Match object; span=(0, 3), match='123'>\n"
     ]
    }
   ],
   "source": [
    "pattern = r'\\d{3}'\n",
    "string = '123Привет, как твои дела? 345 Привет, нормально, учу регулярные выражения.'\n",
    "\n",
    "result = re.match(pattern, string)\n",
    "\n",
    "print(str(result))"
   ]
  },
  {
   "cell_type": "code",
   "execution_count": 22,
   "id": "2b038a69",
   "metadata": {},
   "outputs": [
    {
     "name": "stdout",
     "output_type": "stream",
     "text": [
      "None\n"
     ]
    }
   ],
   "source": [
    "pattern = 'Привет'\n",
    "string = 'Как твои дела? Привет, нормально, учу регулярные выражения.'\n",
    "result = re.match(pattern, string)\n",
    "\n",
    "print(result)"
   ]
  },
  {
   "cell_type": "code",
   "execution_count": 23,
   "id": "f2ee4b6f",
   "metadata": {},
   "outputs": [
    {
     "name": "stdout",
     "output_type": "stream",
     "text": [
      "совпадение есть\n"
     ]
    }
   ],
   "source": [
    "pattern = 'Привет'\n",
    "string = 'Привет, как твои дела? Привет, нормально, учу регулярные выражения.'\n",
    "result = re.match(pattern, string)\n",
    "\n",
    "if result:\n",
    "    print('совпадение есть')"
   ]
  },
  {
   "cell_type": "code",
   "execution_count": 25,
   "id": "0e87849e",
   "metadata": {},
   "outputs": [
    {
     "name": "stdout",
     "output_type": "stream",
     "text": [
      "совпадение есть\n"
     ]
    }
   ],
   "source": [
    "if re.match(pattern, string):\n",
    "    print('совпадение есть')"
   ]
  },
  {
   "cell_type": "code",
   "execution_count": 36,
   "id": "19158d96",
   "metadata": {},
   "outputs": [
    {
     "name": "stdout",
     "output_type": "stream",
     "text": [
      "<re.Match object; span=(15, 21), match='Привет'>\n"
     ]
    }
   ],
   "source": [
    "pattern = 'Привет'\n",
    "string = 'как твои дела? Привет, нормально, учу регулярные выражения.'\n",
    "result = re.search(pattern, string)\n",
    "\n",
    "print(result)"
   ]
  },
  {
   "cell_type": "code",
   "execution_count": 63,
   "id": "26371c7b",
   "metadata": {},
   "outputs": [
    {
     "name": "stdout",
     "output_type": "stream",
     "text": [
      "<re.Match object; span=(15, 18), match='345'>\n"
     ]
    }
   ],
   "source": [
    "pattern = r'\\d{3}'\n",
    "string = 'как твои дела? 345, нормально, учу регулярные выражения.'\n",
    "result = re.search(pattern, string)\n",
    "\n",
    "print(result)"
   ]
  },
  {
   "cell_type": "code",
   "execution_count": 64,
   "id": "3d0009fb",
   "metadata": {},
   "outputs": [
    {
     "name": "stdout",
     "output_type": "stream",
     "text": [
      "<re.Match object; span=(15, 18), match='345'>\n"
     ]
    }
   ],
   "source": [
    "pattern = r'\\d{3}'\n",
    "string = 'как твои дела? 345, нормально, 123 учу регулярные выражения.'\n",
    "result = re.search(pattern, string)\n",
    "\n",
    "print(result)"
   ]
  },
  {
   "cell_type": "code",
   "execution_count": 38,
   "id": "42bea5cf",
   "metadata": {},
   "outputs": [
    {
     "name": "stdout",
     "output_type": "stream",
     "text": [
      "None\n",
      "<re.Match object; span=(0, 1), match='1'>\n"
     ]
    }
   ],
   "source": [
    "import re\n",
    "\n",
    "print(re.fullmatch('\\d', '111'))\n",
    "print(re.fullmatch('\\d', '1'))"
   ]
  },
  {
   "cell_type": "code",
   "execution_count": 28,
   "id": "610d9b38",
   "metadata": {},
   "outputs": [
    {
     "name": "stdout",
     "output_type": "stream",
     "text": [
      "<re.Match object; span=(8, 11), match='123'>\n",
      "<re.Match object; span=(35, 37), match='45'>\n",
      "<re.Match object; span=(53, 54), match='6'>\n"
     ]
    }
   ],
   "source": [
    "import re\n",
    "\n",
    "pattern = '\\d+'\n",
    "string = 'Привет, 123 как твои дела? Привет, 45 нормально, учу 6 регулярные выражения.'\n",
    "\n",
    "result = re.finditer(pattern, string, 0)\n",
    "for i in result:\n",
    "    print(i)"
   ]
  },
  {
   "cell_type": "code",
   "execution_count": 31,
   "id": "210a8613",
   "metadata": {},
   "outputs": [
    {
     "name": "stdout",
     "output_type": "stream",
     "text": [
      "<re.Match object; span=(20, 35), match='123.255.234.567'>\n"
     ]
    }
   ],
   "source": [
    "import re\n",
    "\n",
    "pattern = '\\d+\\.\\d+\\.\\d+\\.\\d+'\n",
    "\n",
    "string = 'IP-адрес устройства 123.255.234.567'\n",
    "result = re.finditer(pattern, string, 0)\n",
    "for i in result:\n",
    "    print(i)"
   ]
  },
  {
   "cell_type": "code",
   "execution_count": 32,
   "id": "7a9ad8ef",
   "metadata": {},
   "outputs": [
    {
     "name": "stdout",
     "output_type": "stream",
     "text": [
      "['Привет', 'Привет']\n"
     ]
    }
   ],
   "source": [
    "import re\n",
    "\n",
    "pattern = 'Привет'\n",
    "string = 'Привет, как твои дела? Привет, нормально, учу регулярные выражения.'\n",
    "result = re.findall(pattern, string)\n",
    "\n",
    "print(result)"
   ]
  },
  {
   "cell_type": "code",
   "execution_count": 34,
   "id": "18ec4029",
   "metadata": {},
   "outputs": [
    {
     "name": "stdout",
     "output_type": "stream",
     "text": [
      "['123', '45', '6']\n"
     ]
    }
   ],
   "source": [
    "import re\n",
    "\n",
    "pattern = '\\d+'\n",
    "string = 'Привет, 123 как твои дела? Привет, 45 нормально, учу 6 регулярные выражения.'\n",
    "result = re.findall(pattern, string)\n",
    "print(result)"
   ]
  },
  {
   "cell_type": "code",
   "execution_count": 35,
   "id": "165a9ea0",
   "metadata": {},
   "outputs": [
    {
     "name": "stdout",
     "output_type": "stream",
     "text": [
      "Пока, как твои дела? Пока, нормально, учу регулярные выражения.\n"
     ]
    }
   ],
   "source": [
    "import re\n",
    "\n",
    "pattern = 'Привет'\n",
    "replace = 'Пока'\n",
    "string = 'Привет, как твои дела? Привет, нормально, учу регулярные выражения.'\n",
    "result = re.sub(pattern, replace, string)\n",
    "\n",
    "print(result)"
   ]
  },
  {
   "cell_type": "markdown",
   "id": "89e830f1",
   "metadata": {},
   "source": [
    "### Задания на отработку "
   ]
  },
  {
   "cell_type": "code",
   "execution_count": 9,
   "id": "4a85c4bc",
   "metadata": {},
   "outputs": [
    {
     "data": {
      "text/plain": [
       "'Hello people of 1974. I come from the future. In 2014 we have laser guns, hover boards and live on the moon!'"
      ]
     },
     "execution_count": 9,
     "metadata": {},
     "output_type": "execute_result"
    }
   ],
   "source": [
    "text = 'Hello people of 1974. I come from the future. In 2014 we have laser guns, hover boards and live on the moon!'\n",
    "text"
   ]
  },
  {
   "cell_type": "code",
   "execution_count": 10,
   "id": "04d40488",
   "metadata": {},
   "outputs": [
    {
     "data": {
      "text/plain": [
       "['1974', '2014']"
      ]
     },
     "execution_count": 10,
     "metadata": {},
     "output_type": "execute_result"
    }
   ],
   "source": [
    "pattern = '\\d{4}'\n",
    "re.findall(pattern, text)"
   ]
  },
  {
   "cell_type": "code",
   "execution_count": 12,
   "id": "9047c99c",
   "metadata": {},
   "outputs": [],
   "source": [
    "mac_table = '''\n",
    "    ...: sw1#sh mac address-table\n",
    "    ...:           Mac Address Table\n",
    "    ...: -------------------------------------------\n",
    "    ...:\n",
    "    ...: Vlan    Mac Address       Type        Ports\n",
    "    ...: ----    -----------       --------    -----\n",
    "    ...:  100    a1b2.ac10.7000    DYNAMIC     Gi0/1\n",
    "    ...:  200    a0d4.cb20.7000    DYNAMIC     Gi0/2\n",
    "    ...:  300    acb4.cd30.7000    DYNAMIC     Gi0/3\n",
    "    ...: 1100    a2bb.ec40.7000    DYNAMIC     Gi0/4\n",
    "    ...:  500    aa4b.c550.7000    DYNAMIC     Gi0/5\n",
    "    ...: 1200    a1bb.1c60.7000    DYNAMIC     Gi0/6\n",
    "    ...: 1300    aa0b.cc70.7000    DYNAMIC     Gi0/7\n",
    "    ...: '''"
   ]
  },
  {
   "cell_type": "code",
   "execution_count": 15,
   "id": "ad71154a",
   "metadata": {},
   "outputs": [
    {
     "data": {
      "text/plain": [
       "'\\nsw1#sh mac address-table\\n          Mac Address Table\\n-------------------------------------------\\n\\nVlan    Mac Address       Type        Ports\\n----    -----------       --------    -----\\n 100    a1b2.ac10.7000    DYNAMIC     Gi0/1\\n 200    a0d4.cb20.7000    DYNAMIC     Gi0/2\\n 300    acb4.cd30.7000    DYNAMIC     Gi0/3\\n1100    a2bb.ec40.7000    DYNAMIC     Gi0/4\\n 500    aa4b.c550.7000    DYNAMIC     Gi0/5\\n1200    a1bb.1c60.7000    DYNAMIC     Gi0/6\\n1300    aa0b.cc70.7000    DYNAMIC     Gi0/7\\n'"
      ]
     },
     "execution_count": 15,
     "metadata": {},
     "output_type": "execute_result"
    }
   ],
   "source": [
    "mac_table"
   ]
  },
  {
   "cell_type": "code",
   "execution_count": 20,
   "id": "406c95b6",
   "metadata": {},
   "outputs": [
    {
     "data": {
      "text/plain": [
       "['a1b2.ac10.7000',\n",
       " 'a0d4.cb20.7000',\n",
       " 'acb4.cd30.7000',\n",
       " 'a2bb.ec40.7000',\n",
       " 'aa4b.c550.7000',\n",
       " 'a1bb.1c60.7000',\n",
       " 'aa0b.cc70.7000']"
      ]
     },
     "execution_count": 20,
     "metadata": {},
     "output_type": "execute_result"
    }
   ],
   "source": [
    "pattern = '[a-z0-9]{4}\\.[a-z0-9]{4}\\.[a-z0-9]{4}'\n",
    "re.findall(pattern, mac_table)"
   ]
  },
  {
   "cell_type": "code",
   "execution_count": 21,
   "id": "703b29c2",
   "metadata": {},
   "outputs": [
    {
     "data": {
      "text/plain": [
       "['Gi0/1', 'Gi0/2', 'Gi0/3', 'Gi0/4', 'Gi0/5', 'Gi0/6', 'Gi0/7']"
      ]
     },
     "execution_count": 21,
     "metadata": {},
     "output_type": "execute_result"
    }
   ],
   "source": [
    "pattern = 'Gi0/\\d'\n",
    "re.findall(pattern, mac_table)"
   ]
  },
  {
   "cell_type": "code",
   "execution_count": 22,
   "id": "d466d331",
   "metadata": {},
   "outputs": [
    {
     "data": {
      "text/plain": [
       "['Gi0/1', 'Gi0/2', 'Gi0/3', 'Gi0/4', 'Gi0/5', 'Gi0/6', 'Gi0/7']"
      ]
     },
     "execution_count": 22,
     "metadata": {},
     "output_type": "execute_result"
    }
   ],
   "source": [
    "pattern = 'Gi0/\\d+'\n",
    "re.findall(pattern, mac_table)"
   ]
  },
  {
   "cell_type": "code",
   "execution_count": 23,
   "id": "63dde866",
   "metadata": {},
   "outputs": [
    {
     "data": {
      "text/plain": [
       "['Gi0/1', 'Gi0/2', 'Gi0/3', 'Gi0/4', 'Gi0/5', 'Gi0/6', 'Gi0/7']"
      ]
     },
     "execution_count": 23,
     "metadata": {},
     "output_type": "execute_result"
    }
   ],
   "source": [
    "pattern = 'Gi0/[0-9]'\n",
    "re.findall(pattern, mac_table)"
   ]
  },
  {
   "cell_type": "code",
   "execution_count": 24,
   "id": "d36abe1b",
   "metadata": {},
   "outputs": [
    {
     "data": {
      "text/plain": [
       "['Gi0/1', 'Gi0/2', 'Gi0/3', 'Gi0/4', 'Gi0/5', 'Gi0/6', 'Gi0/7']"
      ]
     },
     "execution_count": 24,
     "metadata": {},
     "output_type": "execute_result"
    }
   ],
   "source": [
    "pattern = 'Gi0/.'\n",
    "re.findall(pattern, mac_table)"
   ]
  },
  {
   "cell_type": "code",
   "execution_count": 35,
   "id": "687f73d9",
   "metadata": {},
   "outputs": [],
   "source": [
    "data = '''\n",
    "MacAddress          IpAddress     Lease(sec)  Type           VLAN  Interface\n",
    "------------------  ------------  ----------  -------------  ----  --------------------\n",
    "00:09:BB:3D:D6:58   10.1.10.2     86250       dhcp-snooping   10    FastEthernet0/1\n",
    "00:04:A3:3E:5B:69   10.1.5.2      63951       dhcp-snooping   5     FastEthernet0/10\n",
    "00:05:B3:7E:9B:60   10.1.5.4      63253       dhcp-snooping   5     FastEthernet0/9\n",
    "00:09:BC:3F:A6:50   10.1.10.6     76260       dhcp-snooping   10    FastEthernet0/330\n",
    "Total number of bindings: 4\n",
    "'''"
   ]
  },
  {
   "cell_type": "code",
   "execution_count": 29,
   "id": "ff4a935d",
   "metadata": {},
   "outputs": [
    {
     "data": {
      "text/plain": [
       "['FastEthernet0/1', 'FastEthernet0/10', 'FastEthernet0/9', 'FastEthernet0/330']"
      ]
     },
     "execution_count": 29,
     "metadata": {},
     "output_type": "execute_result"
    }
   ],
   "source": [
    "pattern = 'FastEthernet0/\\d+'\n",
    "re.findall(pattern, data)"
   ]
  },
  {
   "cell_type": "code",
   "execution_count": 30,
   "id": "3df08589",
   "metadata": {},
   "outputs": [
    {
     "data": {
      "text/plain": [
       "['FastEthernet0/1', 'FastEthernet0/10', 'FastEthernet0/9', 'FastEthernet0/330']"
      ]
     },
     "execution_count": 30,
     "metadata": {},
     "output_type": "execute_result"
    }
   ],
   "source": [
    "pattern = 'FastEthernet0/[\\d]+'\n",
    "re.findall(pattern, data)"
   ]
  },
  {
   "cell_type": "code",
   "execution_count": 36,
   "id": "18bdab92",
   "metadata": {},
   "outputs": [
    {
     "data": {
      "text/plain": [
       "['FastEthernet0/1', 'FastEthernet0/10', 'FastEthernet0/9', 'FastEthernet0/330']"
      ]
     },
     "execution_count": 36,
     "metadata": {},
     "output_type": "execute_result"
    }
   ],
   "source": [
    "pattern = 'FastEthernet0/[0-9]+'\n",
    "re.findall(pattern, data)"
   ]
  },
  {
   "cell_type": "code",
   "execution_count": null,
   "id": "bf27ff34",
   "metadata": {},
   "outputs": [],
   "source": []
  }
 ],
 "metadata": {
  "kernelspec": {
   "display_name": "Python 3 (ipykernel)",
   "language": "python",
   "name": "python3"
  },
  "language_info": {
   "codemirror_mode": {
    "name": "ipython",
    "version": 3
   },
   "file_extension": ".py",
   "mimetype": "text/x-python",
   "name": "python",
   "nbconvert_exporter": "python",
   "pygments_lexer": "ipython3",
   "version": "3.10.9"
  }
 },
 "nbformat": 4,
 "nbformat_minor": 5
}
