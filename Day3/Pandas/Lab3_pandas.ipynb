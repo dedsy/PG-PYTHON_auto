{
 "cells": [
  {
   "cell_type": "markdown",
   "id": "21958923",
   "metadata": {},
   "source": [
    "Официальный гид по pandas https://pandas.pydata.org/pandas-docs/stable/user_guide/index.html"
   ]
  },
  {
   "cell_type": "markdown",
   "id": "afb0936a",
   "metadata": {},
   "source": [
    "Импортируйте датасет с информацией о пассажирах Титаника."
   ]
  },
  {
   "cell_type": "code",
   "execution_count": null,
   "id": "e85cbc07",
   "metadata": {},
   "outputs": [],
   "source": []
  },
  {
   "cell_type": "markdown",
   "id": "a08a6b44",
   "metadata": {},
   "source": [
    "Используйте метод head(n=5), возвращающий первые n строк датафрейма"
   ]
  },
  {
   "cell_type": "code",
   "execution_count": null,
   "id": "5c719e39",
   "metadata": {},
   "outputs": [],
   "source": []
  },
  {
   "cell_type": "markdown",
   "id": "f26a749b",
   "metadata": {},
   "source": [
    "Получите имена колонок"
   ]
  },
  {
   "cell_type": "code",
   "execution_count": null,
   "id": "c7ad83f8",
   "metadata": {},
   "outputs": [],
   "source": []
  },
  {
   "cell_type": "markdown",
   "id": "fe41ba08",
   "metadata": {},
   "source": [
    "Получите строки таблицы с 4 по 6"
   ]
  },
  {
   "cell_type": "code",
   "execution_count": null,
   "id": "055e5c21",
   "metadata": {},
   "outputs": [],
   "source": []
  },
  {
   "cell_type": "markdown",
   "id": "b40811dd",
   "metadata": {},
   "source": [
    "Получить пол пассажиров для строк с первой по седьмую. Используем loc"
   ]
  },
  {
   "cell_type": "code",
   "execution_count": null,
   "id": "81503e4c",
   "metadata": {},
   "outputs": [],
   "source": []
  },
  {
   "cell_type": "markdown",
   "id": "cf3f0e76",
   "metadata": {},
   "source": [
    "Получение не только пол, но и возраст пассажиров с необходимыми номерами"
   ]
  },
  {
   "cell_type": "code",
   "execution_count": null,
   "id": "d49f6028",
   "metadata": {},
   "outputs": [],
   "source": []
  },
  {
   "cell_type": "markdown",
   "id": "76a143b3",
   "metadata": {},
   "source": [
    "Получить используя iloc первые два столбца первых десяти строк"
   ]
  },
  {
   "cell_type": "code",
   "execution_count": null,
   "id": "79fd8b84",
   "metadata": {},
   "outputs": [],
   "source": []
  },
  {
   "cell_type": "markdown",
   "id": "ac592614",
   "metadata": {},
   "source": [
    "Получим первые пять имен пассажиров нашей таблицы"
   ]
  },
  {
   "cell_type": "code",
   "execution_count": null,
   "id": "9d574fc1",
   "metadata": {},
   "outputs": [],
   "source": []
  },
  {
   "cell_type": "markdown",
   "id": "b435a691",
   "metadata": {},
   "source": [
    "выведем пять первых женщин пассажиров"
   ]
  },
  {
   "cell_type": "code",
   "execution_count": null,
   "id": "897ef4bf",
   "metadata": {},
   "outputs": [],
   "source": []
  },
  {
   "cell_type": "markdown",
   "id": "9053358a",
   "metadata": {},
   "source": [
    "Получим датафрейм, содержащий первые пять мужчин или женщин старше 50 лет"
   ]
  },
  {
   "cell_type": "code",
   "execution_count": null,
   "id": "1a584ad0",
   "metadata": {},
   "outputs": [],
   "source": []
  },
  {
   "cell_type": "markdown",
   "id": "2f719b05",
   "metadata": {},
   "source": [
    "Переименуем колонку Name в name. В параметр columns передаем словарь, в котором указываются пары старое_имя:новое_имя колонок. Параметр inplace=True заставляет Pandas менять текущий датафрейм, а не создавать новый"
   ]
  },
  {
   "cell_type": "code",
   "execution_count": null,
   "id": "6a813d2f",
   "metadata": {},
   "outputs": [],
   "source": []
  },
  {
   "cell_type": "markdown",
   "id": "e2b3d64f",
   "metadata": {},
   "source": [
    "Получим фамилии всех людей из колонки name. Для этого напишем пользовательскую функцию для получения фамилии из строки с полным именем"
   ]
  },
  {
   "cell_type": "code",
   "execution_count": null,
   "id": "302ae3c9",
   "metadata": {},
   "outputs": [],
   "source": []
  },
  {
   "cell_type": "markdown",
   "id": "ac26a44a",
   "metadata": {},
   "source": [
    "Чтобы применить ее ко всем элементам датафрейма, используется метод apply(), в которую передается объект функции. Результат сохранить в переменной last_names"
   ]
  },
  {
   "cell_type": "code",
   "execution_count": null,
   "id": "ae088c60",
   "metadata": {},
   "outputs": [],
   "source": []
  },
  {
   "cell_type": "markdown",
   "id": "6811481e",
   "metadata": {},
   "source": [
    "Добавим в наш датафрейм столбец фамилий, которые мы сохранили в переменной last_names"
   ]
  },
  {
   "cell_type": "code",
   "execution_count": null,
   "id": "fb1ac502",
   "metadata": {},
   "outputs": [],
   "source": []
  },
  {
   "cell_type": "markdown",
   "id": "020d0817",
   "metadata": {},
   "source": [
    "Для получения пустых строк используется метод isnull(), а для получения непустых строк – метод notnull()."
   ]
  },
  {
   "cell_type": "code",
   "execution_count": 1,
   "id": "39b843c6",
   "metadata": {},
   "outputs": [],
   "source": [
    "# первые пять пустых ячеек столбца Cabin\n",
    "\n",
    "# первые пять непустых ячеек столбца Cabin\n"
   ]
  },
  {
   "cell_type": "markdown",
   "id": "9d562f62",
   "metadata": {},
   "source": [
    "Для датасета с информацией о пассажирах Титаника построить статистику с распределением возрастов по трем группам: младше 30, от 30 до 55, старше 55 - в итоге должна быть построена круговая диаграмма (можно столбчатую)"
   ]
  },
  {
   "cell_type": "code",
   "execution_count": null,
   "id": "f4255182",
   "metadata": {},
   "outputs": [],
   "source": []
  },
  {
   "cell_type": "markdown",
   "id": "ee662214",
   "metadata": {},
   "source": [
    "После окончания работы с датафремом, его можно сохранить в файлы различных форматов. Например, для сохранения в csv формат используется метод to_csv()"
   ]
  },
  {
   "cell_type": "code",
   "execution_count": null,
   "id": "2166eacb",
   "metadata": {},
   "outputs": [],
   "source": []
  }
 ],
 "metadata": {
  "kernelspec": {
   "display_name": "Python 3 (ipykernel)",
   "language": "python",
   "name": "python3"
  },
  "language_info": {
   "codemirror_mode": {
    "name": "ipython",
    "version": 3
   },
   "file_extension": ".py",
   "mimetype": "text/x-python",
   "name": "python",
   "nbconvert_exporter": "python",
   "pygments_lexer": "ipython3",
   "version": "3.10.9"
  }
 },
 "nbformat": 4,
 "nbformat_minor": 5
}
