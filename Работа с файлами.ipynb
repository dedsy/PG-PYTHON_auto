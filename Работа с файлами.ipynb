{
 "cells": [
  {
   "cell_type": "markdown",
   "id": "7dd26e1f",
   "metadata": {},
   "source": [
    "### Работа с текстовыми файлами "
   ]
  },
  {
   "cell_type": "markdown",
   "id": "d05dc381",
   "metadata": {},
   "source": [
    "В Python работа с текстовыми файлами осуществляется с помощью встроенных функций и методов. Вот основные шаги для работы с текстовыми файлами в Python:\n",
    "\n",
    "Открытие файла: Для открытия файла используется функция open(). Она принимает два аргумента - имя файла и режим открытия. \n",
    "\n",
    "Режим открытия может быть 'r' (чтение), 'w' (запись), 'a' (добавление/дозапись), 'x' (создание и запись), и другие. "
   ]
  },
  {
   "cell_type": "code",
   "execution_count": null,
   "id": "b9d21edf",
   "metadata": {},
   "outputs": [],
   "source": [
    "f = open('path/to/file', 'filemode', encoding='utf8')"
   ]
  },
  {
   "cell_type": "code",
   "execution_count": 1,
   "id": "a3c57011",
   "metadata": {},
   "outputs": [],
   "source": [
    "f = open('test.txt', 'w') \n",
    "\n",
    "# Запишем в файл строку\n",
    "f.write(\"This is a test string\")\n",
    "\n",
    "# обязательно нужно закрыть файл иначе он будет заблокирован ОС\n",
    "f.close()"
   ]
  },
  {
   "cell_type": "code",
   "execution_count": 2,
   "id": "459e5b11",
   "metadata": {},
   "outputs": [],
   "source": [
    "f = open('test.txt') \n",
    "\n",
    "data = f.read()\n",
    "\n",
    "# обязательно закрываем файл\n",
    "f.close()"
   ]
  },
  {
   "cell_type": "code",
   "execution_count": 3,
   "id": "9483d2fd",
   "metadata": {},
   "outputs": [
    {
     "data": {
      "text/plain": [
       "'This is a test string'"
      ]
     },
     "execution_count": 3,
     "metadata": {},
     "output_type": "execute_result"
    }
   ],
   "source": [
    "data"
   ]
  },
  {
   "cell_type": "code",
   "execution_count": 4,
   "id": "11a71347",
   "metadata": {},
   "outputs": [],
   "source": [
    "f = open('test.txt', 'w') \n",
    "\n",
    "# Запишем в файл строку\n",
    "f.write(\"This is a ANOTHER string\")\n",
    "\n",
    "# обязательно нужно закрыть файл иначе он будет заблокирован ОС\n",
    "f.close()"
   ]
  },
  {
   "cell_type": "code",
   "execution_count": 5,
   "id": "789d730c",
   "metadata": {},
   "outputs": [],
   "source": [
    "f = open('test.txt') \n",
    "\n",
    "data = f.read()\n",
    "\n",
    "# обязательно закрываем файл\n",
    "f.close()"
   ]
  },
  {
   "cell_type": "code",
   "execution_count": 6,
   "id": "88b4c775",
   "metadata": {},
   "outputs": [
    {
     "data": {
      "text/plain": [
       "'This is a ANOTHER string'"
      ]
     },
     "execution_count": 6,
     "metadata": {},
     "output_type": "execute_result"
    }
   ],
   "source": [
    "data"
   ]
  },
  {
   "cell_type": "code",
   "execution_count": 7,
   "id": "baabecfc",
   "metadata": {},
   "outputs": [],
   "source": [
    "f = open('test.txt', 'a') \n",
    "\n",
    "# Запишем в файл строку\n",
    "f.write(\"This is a test string\")\n",
    "\n",
    "# обязательно нужно закрыть файл иначе он будет заблокирован ОС\n",
    "f.close()"
   ]
  },
  {
   "cell_type": "code",
   "execution_count": 8,
   "id": "e52243d6",
   "metadata": {},
   "outputs": [],
   "source": [
    "f = open('test.txt') \n",
    "\n",
    "data = f.read()\n",
    "\n",
    "# обязательно закрываем файл\n",
    "f.close()"
   ]
  },
  {
   "cell_type": "code",
   "execution_count": 9,
   "id": "21f0ad94",
   "metadata": {},
   "outputs": [
    {
     "data": {
      "text/plain": [
       "'This is a ANOTHER stringThis is a test string'"
      ]
     },
     "execution_count": 9,
     "metadata": {},
     "output_type": "execute_result"
    }
   ],
   "source": [
    "data"
   ]
  },
  {
   "cell_type": "code",
   "execution_count": 10,
   "id": "616ae6c1",
   "metadata": {},
   "outputs": [
    {
     "name": "stdout",
     "output_type": "stream",
     "text": [
      "Hello, Русский текст\n",
      "\n"
     ]
    }
   ],
   "source": [
    "f = open('test.txt', 'w', encoding=\"utf-8\")\n",
    "f.write(\"Hello, Русский текст\\n\")\n",
    "f.close()\n",
    "\n",
    "f = open('test.txt')\n",
    "print(f.read())"
   ]
  },
  {
   "cell_type": "markdown",
   "id": "aa4a89e0",
   "metadata": {},
   "source": [
    "### Чтение и запись построчно"
   ]
  },
  {
   "cell_type": "code",
   "execution_count": 11,
   "id": "5aa53158",
   "metadata": {},
   "outputs": [],
   "source": [
    "f = open('test_1.txt', 'a', encoding='utf8')  # открываем файл на дозапись\n",
    "\n",
    "sequence = [\"Первая строка\\n\", \"Вторая строка\\n\", \"Третья строка\\n\"]\n",
    "\n",
    "f.writelines(sequence) # берет строки из sequence и записывает в файл (без переносов)\n",
    "\n",
    "f.close()"
   ]
  },
  {
   "cell_type": "code",
   "execution_count": 16,
   "id": "fe339b6f",
   "metadata": {},
   "outputs": [],
   "source": [
    "f = open('test_1.txt', 'r', encoding='utf8')"
   ]
  },
  {
   "cell_type": "code",
   "execution_count": 13,
   "id": "b670d3cc",
   "metadata": {},
   "outputs": [
    {
     "data": {
      "text/plain": [
       "'Первая строка\\nВторая строка\\nТретья строка\\nПервая строка\\nВторая строка\\nТретья строка\\n'"
      ]
     },
     "execution_count": 13,
     "metadata": {},
     "output_type": "execute_result"
    }
   ],
   "source": [
    "data = f.read()\n",
    "data"
   ]
  },
  {
   "cell_type": "code",
   "execution_count": 14,
   "id": "80f1cbc7",
   "metadata": {},
   "outputs": [
    {
     "name": "stdout",
     "output_type": "stream",
     "text": [
      "Первая строка\n",
      "Вторая строка\n",
      "Третья строка\n",
      "Первая строка\n",
      "Вторая строка\n",
      "Третья строка\n",
      "\n"
     ]
    }
   ],
   "source": [
    "print(data)"
   ]
  },
  {
   "cell_type": "code",
   "execution_count": 17,
   "id": "bee68d72",
   "metadata": {},
   "outputs": [
    {
     "data": {
      "text/plain": [
       "['Первая строка\\n',\n",
       " 'Вторая строка\\n',\n",
       " 'Третья строка\\n',\n",
       " 'Первая строка\\n',\n",
       " 'Вторая строка\\n',\n",
       " 'Третья строка\\n']"
      ]
     },
     "execution_count": 17,
     "metadata": {},
     "output_type": "execute_result"
    }
   ],
   "source": [
    "data = f.readlines()\n",
    "data"
   ]
  },
  {
   "cell_type": "code",
   "execution_count": 18,
   "id": "399c12d9",
   "metadata": {},
   "outputs": [],
   "source": [
    "f.close()"
   ]
  },
  {
   "cell_type": "code",
   "execution_count": 27,
   "id": "b9cdb4fd",
   "metadata": {},
   "outputs": [
    {
     "name": "stdout",
     "output_type": "stream",
     "text": [
      "['1\\n', '2\\n', '3\\n', '4\\n', '5\\n', '6\\n', '7\\n', '8\\n', '9']\n"
     ]
    }
   ],
   "source": [
    "f = open('numbers.txt', 'r')\n",
    "\n",
    "data = f.readlines()\n",
    "print(data)\n",
    "\n",
    "f.close()"
   ]
  },
  {
   "cell_type": "code",
   "execution_count": 27,
   "id": "e77c4eb0",
   "metadata": {},
   "outputs": [
    {
     "data": {
      "text/plain": [
       "[1, 2, 3, 4, 5, 6, 7, 8, 9]"
      ]
     },
     "execution_count": 27,
     "metadata": {},
     "output_type": "execute_result"
    }
   ],
   "source": [
    "data = [int(i) for i in data]\n",
    "data"
   ]
  },
  {
   "cell_type": "code",
   "execution_count": 25,
   "id": "fdd03e43",
   "metadata": {},
   "outputs": [
    {
     "name": "stdout",
     "output_type": "stream",
     "text": [
      "[1, 2, 3, 4, 5, 6, 7, 8, 9]\n"
     ]
    }
   ],
   "source": [
    "f = open('numbers.txt', 'r')\n",
    "\n",
    "data = list(map(int,f.readlines()))\n",
    "print(data)\n",
    "\n",
    "f.close()"
   ]
  },
  {
   "cell_type": "code",
   "execution_count": 28,
   "id": "381ade0a",
   "metadata": {},
   "outputs": [
    {
     "data": {
      "text/plain": [
       "45"
      ]
     },
     "execution_count": 28,
     "metadata": {},
     "output_type": "execute_result"
    }
   ],
   "source": [
    "sum(data)"
   ]
  },
  {
   "cell_type": "code",
   "execution_count": 19,
   "id": "309a8681",
   "metadata": {},
   "outputs": [
    {
     "name": "stdout",
     "output_type": "stream",
     "text": [
      "1\n",
      "2\n",
      "3\n",
      "4\n",
      "5\n",
      "6\n",
      "7\n",
      "8\n",
      "9\n"
     ]
    }
   ],
   "source": [
    "f = open('numbers.txt') # можно перечислять строки в файле\n",
    "\n",
    "for line in f:\n",
    "    print(line.rstrip())\n",
    "    \n",
    "f.close()"
   ]
  },
  {
   "cell_type": "markdown",
   "id": "e440718c",
   "metadata": {},
   "source": [
    "## Менеджер контекста with"
   ]
  },
  {
   "cell_type": "code",
   "execution_count": null,
   "id": "49390c60",
   "metadata": {},
   "outputs": [],
   "source": [
    "try:\n",
    "    somefile = open(\"hello.txt\", \"w\")\n",
    "    \n",
    "    try:\n",
    "        somefile.write(\"hello world\")\n",
    "        \n",
    "    except Exception as e: # вдруг возникнет какая-то ошибка\n",
    "        print(e)\n",
    "        \n",
    "    finally:\n",
    "        somefile.close()  # файл закроется в любом случае \n",
    "        \n",
    "except Exception as ex:\n",
    "    print(ex)"
   ]
  },
  {
   "cell_type": "markdown",
   "id": "e5e6fcf5",
   "metadata": {},
   "source": [
    "Менеджер контекста неявно вызывает закрытие файла после работы.\n",
    "Что освобождает вас от забот о том, закрыли ли вы файл или нет.\n",
    "Закрытие файла происходит при любом стечении обстоятельств,\n",
    "даже если внутри with будет ошибка."
   ]
  },
  {
   "cell_type": "code",
   "execution_count": 4,
   "id": "832fde47",
   "metadata": {},
   "outputs": [
    {
     "name": "stdout",
     "output_type": "stream",
     "text": [
      "1\n",
      "2\n",
      "3\n",
      "4\n",
      "5\n",
      "6\n",
      "7\n",
      "8\n",
      "9\n"
     ]
    }
   ],
   "source": [
    "f = open('numbers.txt') # можно перечислять строки в файле\n",
    "\n",
    "for line in f:\n",
    "    print(line.rstrip())\n",
    "    \n",
    "f.close()"
   ]
  },
  {
   "cell_type": "code",
   "execution_count": 32,
   "id": "46c270a3",
   "metadata": {},
   "outputs": [
    {
     "name": "stdout",
     "output_type": "stream",
     "text": [
      "1\n",
      "2\n",
      "3\n",
      "4\n",
      "5\n",
      "6\n",
      "7\n",
      "8\n",
      "9\n"
     ]
    }
   ],
   "source": [
    "with open('numbers.txt') as f:\n",
    "    for line in f:\n",
    "        print(line.rstrip())"
   ]
  },
  {
   "cell_type": "code",
   "execution_count": 34,
   "id": "cb1383d8",
   "metadata": {},
   "outputs": [],
   "source": [
    "# копирование содержимого файла \n",
    "with open('test_1.txt', 'r') as ONE:\n",
    "    with open(\"test_new.txt\", \"w\") as SECOND:\n",
    "        for line in ONE:\n",
    "            SECOND.write(line)"
   ]
  },
  {
   "cell_type": "markdown",
   "id": "e652dd55",
   "metadata": {},
   "source": [
    "### Работа с файловой системой\n",
    "Основной модуль os в Python предоставляет функциональность для взаимодействия с операционной системой. Он позволяет выполнять различные операции с файлами, директориями, путями и другими системными ресурсами. Вот туториал по основным возможностям модуля os:"
   ]
  },
  {
   "cell_type": "code",
   "execution_count": 21,
   "id": "0b913725",
   "metadata": {},
   "outputs": [
    {
     "name": "stdout",
     "output_type": "stream",
     "text": [
      "Текущая рабочая директория: /Users/elenamorozova/Desktop/My_course_materials/Python_auto_5-2.12/Day1_work_ with_files\n"
     ]
    }
   ],
   "source": [
    "import os\n",
    "\n",
    "# Получение текущей рабочей директории\n",
    "cwd = os.getcwd()\n",
    "print(\"Текущая рабочая директория:\", cwd)"
   ]
  },
  {
   "cell_type": "code",
   "execution_count": 34,
   "id": "3de23c38",
   "metadata": {},
   "outputs": [
    {
     "name": "stdout",
     "output_type": "stream",
     "text": [
      "Содержимое директории: ['music.json', 'numbers.txt', 'data.pickle', 'file.json', 'papka', 'prices.csv', 'Работа с файлами.ipynb', 'Lab1_Auto_answers.ipynb', 'russian_ensure_ascii.json', 'russian.json', 'file.csv', 'test_1.txt', 'Расширенные_возможности_использования_функций_Работа_с_источниками_данных.ipynb', 'Lab1_Auto_new.ipynb', 'test.txt', '.ipynb_checkpoints', 'Dict_task_razbor.ipynb', 'Dict_task.ipynb', 'csv_lection.ipynb', 'prices.txt']\n"
     ]
    }
   ],
   "source": [
    "# Получение списка файлов и директорий в указанной директории\n",
    "dir_contents = os.listdir(cwd)\n",
    "print(\"Содержимое директории:\", dir_contents)"
   ]
  },
  {
   "cell_type": "code",
   "execution_count": 35,
   "id": "e7ea8245",
   "metadata": {},
   "outputs": [
    {
     "data": {
      "text/plain": [
       "['music.json',\n",
       " 'numbers.txt',\n",
       " 'data.pickle',\n",
       " 'file.json',\n",
       " 'papka',\n",
       " 'prices.csv',\n",
       " 'Работа с файлами.ipynb',\n",
       " 'Lab1_Auto_answers.ipynb',\n",
       " 'russian_ensure_ascii.json',\n",
       " 'russian.json',\n",
       " 'file.csv',\n",
       " 'test_1.txt',\n",
       " 'Расширенные_возможности_использования_функций_Работа_с_источниками_данных.ipynb',\n",
       " 'Lab1_Auto_new.ipynb',\n",
       " 'test.txt',\n",
       " '.ipynb_checkpoints',\n",
       " 'Dict_task_razbor.ipynb',\n",
       " 'Dict_task.ipynb',\n",
       " 'csv_lection.ipynb',\n",
       " 'prices.txt']"
      ]
     },
     "execution_count": 35,
     "metadata": {},
     "output_type": "execute_result"
    }
   ],
   "source": [
    "# список файлов и директорий в папке\n",
    "os.listdir()"
   ]
  },
  {
   "cell_type": "code",
   "execution_count": 40,
   "id": "c181afcb",
   "metadata": {},
   "outputs": [
    {
     "data": {
      "text/plain": [
       "['.DS_Store', 'Day3_pandas', 'Day2_excel_modules', 'Day1_work_ with_files']"
      ]
     },
     "execution_count": 40,
     "metadata": {},
     "output_type": "execute_result"
    }
   ],
   "source": [
    "# список файлов и директорий в другой директории отличной от текущей\n",
    "os.listdir(\"/Users/elenamorozova/Desktop/My_course_materials/Python_auto_5.12\")  # абсолютный путь"
   ]
  },
  {
   "cell_type": "code",
   "execution_count": 42,
   "id": "9654ec33",
   "metadata": {},
   "outputs": [
    {
     "data": {
      "text/plain": [
       "['какой-то новый файл', 'untitled.txt', '.ipynb_checkpoints']"
      ]
     },
     "execution_count": 42,
     "metadata": {},
     "output_type": "execute_result"
    }
   ],
   "source": [
    "# список файлов и директорий в другой директории отличной от текущей\n",
    "os.listdir(\"papka\")  # относительный путь"
   ]
  },
  {
   "cell_type": "code",
   "execution_count": 22,
   "id": "c5d62b22",
   "metadata": {},
   "outputs": [],
   "source": [
    "# Создание новой директории\n",
    "os.mkdir(\"new_directory\")\n",
    "\n",
    "# Создание вложенных директорий\n",
    "os.makedirs(\"parent/child\")"
   ]
  },
  {
   "cell_type": "code",
   "execution_count": 23,
   "id": "5089dd72",
   "metadata": {},
   "outputs": [],
   "source": [
    "# Удаление директории\n",
    "os.rmdir(\"new_directory\")\n",
    "\n",
    "# Удаление директории и ее содержимого (рекурсивно)\n",
    "os.removedirs(\"parent/child\")"
   ]
  },
  {
   "cell_type": "code",
   "execution_count": 45,
   "id": "9e9f0aa8",
   "metadata": {},
   "outputs": [
    {
     "name": "stdout",
     "output_type": "stream",
     "text": [
      "File or directory exists\n"
     ]
    }
   ],
   "source": [
    "# Проверка существования файла или директории:\n",
    "\n",
    "if os.path.exists(\"/Users/elenamorozova/Desktop\"):\n",
    "    print('File or directory exists')\n",
    "else:\n",
    "    print('File or directory does not exist')"
   ]
  },
  {
   "cell_type": "code",
   "execution_count": 45,
   "id": "142c66c7",
   "metadata": {},
   "outputs": [
    {
     "name": "stdout",
     "output_type": "stream",
     "text": [
      "This is a directory\n"
     ]
    }
   ],
   "source": [
    "# Проверка, является ли путь директорией или файлом:\n",
    "\n",
    "if os.path.isdir(\"/Users/elenamorozova/Desktop\"):\n",
    "    print('This is a directory')\n",
    "    \n",
    "elif os.path.isfile(\"/Users/elenamorozova/Desktop\"):\n",
    "    print('This is a file')"
   ]
  },
  {
   "cell_type": "code",
   "execution_count": 48,
   "id": "116e6e1f",
   "metadata": {},
   "outputs": [
    {
     "data": {
      "text/plain": [
       "'/Users/elenamorozova/Desktop'"
      ]
     },
     "execution_count": 48,
     "metadata": {},
     "output_type": "execute_result"
    }
   ],
   "source": [
    "# Объединение путей\n",
    "\n",
    "path = os.path.join('/Users', 'elenamorozova', 'Desktop')\n",
    "path"
   ]
  },
  {
   "cell_type": "code",
   "execution_count": 49,
   "id": "ebbd20b2",
   "metadata": {},
   "outputs": [
    {
     "name": "stdout",
     "output_type": "stream",
     "text": [
      "File or directory exists\n"
     ]
    }
   ],
   "source": [
    "if os.path.exists(path):\n",
    "    print('File or directory exists')\n",
    "else:\n",
    "    print('File or directory does not exist')"
   ]
  },
  {
   "cell_type": "code",
   "execution_count": 51,
   "id": "39cc0b81",
   "metadata": {},
   "outputs": [
    {
     "data": {
      "text/plain": [
       "'file.txt'"
      ]
     },
     "execution_count": 51,
     "metadata": {},
     "output_type": "execute_result"
    }
   ],
   "source": [
    "# Извлечение имени файла из пути\n",
    "\n",
    "filename = os.path.basename('path/to/file.txt')\n",
    "filename"
   ]
  },
  {
   "cell_type": "code",
   "execution_count": 52,
   "id": "871cbf54",
   "metadata": {},
   "outputs": [
    {
     "data": {
      "text/plain": [
       "'path/to'"
      ]
     },
     "execution_count": 52,
     "metadata": {},
     "output_type": "execute_result"
    }
   ],
   "source": [
    "# Извлечение имени директории из пути\n",
    "\n",
    "directory = os.path.dirname('path/to/file.txt')\n",
    "directory"
   ]
  },
  {
   "cell_type": "code",
   "execution_count": 53,
   "id": "3226fa41",
   "metadata": {},
   "outputs": [
    {
     "data": {
      "text/plain": [
       "('path/to', 'file.txt')"
      ]
     },
     "execution_count": 53,
     "metadata": {},
     "output_type": "execute_result"
    }
   ],
   "source": [
    "# Разделение пути на директорию и имя файла\n",
    "\n",
    "directory, filename = os.path.split('path/to/file.txt')\n",
    "directory, filename"
   ]
  },
  {
   "cell_type": "code",
   "execution_count": 54,
   "id": "a70cf353",
   "metadata": {},
   "outputs": [
    {
     "name": "stdout",
     "output_type": "stream",
     "text": [
      "This is a relative path\n"
     ]
    }
   ],
   "source": [
    "# Проверка, является ли путь абсолютным или относительным\n",
    "\n",
    "if os.path.isabs('path/to/file.txt'):\n",
    "    print('This is an absolute path')\n",
    "else:\n",
    "    print('This is a relative path')"
   ]
  },
  {
   "cell_type": "code",
   "execution_count": 24,
   "id": "cc2a2623",
   "metadata": {},
   "outputs": [
    {
     "name": "stdout",
     "output_type": "stream",
     "text": [
      "Текущая директория /Users/elenamorozova/Desktop/My_course_materials/Python_auto_5.12\n",
      "---\n",
      "Список папок ['Day3_pandas', 'Day2_excel_modules', 'Day1_work_ with_files']\n",
      "---\n",
      "Список файлов ['.DS_Store']\n",
      "---\n",
      "Все пути:\n",
      "Файл  /Users/elenamorozova/Desktop/My_course_materials/Python_auto_5.12/.DS_Store\n",
      "Папка  /Users/elenamorozova/Desktop/My_course_materials/Python_auto_5.12/Day3_pandas\n",
      "Папка  /Users/elenamorozova/Desktop/My_course_materials/Python_auto_5.12/Day2_excel_modules\n",
      "Папка  /Users/elenamorozova/Desktop/My_course_materials/Python_auto_5.12/Day1_work_ with_files\n",
      "===\n",
      "Текущая директория /Users/elenamorozova/Desktop/My_course_materials/Python_auto_5.12/Day3_pandas\n",
      "---\n",
      "Список папок ['Test2_modules', '.ipynb_checkpoints']\n",
      "---\n",
      "Список файлов ['Lab3_pandas.ipynb', '.DS_Store', 'Lection pandas.ipynb', 'Pandas_Intro_lection_auto.ipynb', 'train.csv']\n",
      "---\n",
      "Все пути:\n",
      "Файл  /Users/elenamorozova/Desktop/My_course_materials/Python_auto_5.12/Day3_pandas/Lab3_pandas.ipynb\n",
      "Файл  /Users/elenamorozova/Desktop/My_course_materials/Python_auto_5.12/Day3_pandas/.DS_Store\n",
      "Файл  /Users/elenamorozova/Desktop/My_course_materials/Python_auto_5.12/Day3_pandas/Lection pandas.ipynb\n",
      "Файл  /Users/elenamorozova/Desktop/My_course_materials/Python_auto_5.12/Day3_pandas/Pandas_Intro_lection_auto.ipynb\n",
      "Файл  /Users/elenamorozova/Desktop/My_course_materials/Python_auto_5.12/Day3_pandas/train.csv\n",
      "Папка  /Users/elenamorozova/Desktop/My_course_materials/Python_auto_5.12/Day3_pandas/Test2_modules\n",
      "Папка  /Users/elenamorozova/Desktop/My_course_materials/Python_auto_5.12/Day3_pandas/.ipynb_checkpoints\n",
      "===\n",
      "Текущая директория /Users/elenamorozova/Desktop/My_course_materials/Python_auto_5.12/Day3_pandas/Test2_modules\n",
      "---\n",
      "Папок нет\n",
      "---\n",
      "Список файлов ['code.py', 'data.json', 'datamodule.py']\n",
      "---\n",
      "Файл  /Users/elenamorozova/Desktop/My_course_materials/Python_auto_5.12/Day3_pandas/Test2_modules/code.py\n",
      "Файл  /Users/elenamorozova/Desktop/My_course_materials/Python_auto_5.12/Day3_pandas/Test2_modules/data.json\n",
      "Файл  /Users/elenamorozova/Desktop/My_course_materials/Python_auto_5.12/Day3_pandas/Test2_modules/datamodule.py\n",
      "===\n",
      "Текущая директория /Users/elenamorozova/Desktop/My_course_materials/Python_auto_5.12/Day3_pandas/.ipynb_checkpoints\n",
      "---\n",
      "Папок нет\n",
      "---\n",
      "Файлов нет\n",
      "---\n",
      "===\n",
      "Текущая директория /Users/elenamorozova/Desktop/My_course_materials/Python_auto_5.12/Day2_excel_modules\n",
      "---\n",
      "Список папок ['sales-analytics-main', '.ipynb_checkpoints']\n",
      "---\n",
      "Список файлов ['sales-analytics-main.zip', 'excel_lection.ipynb', '.DS_Store', 'logs_answers.py', 'ТЗ к задаче с логами.pdf', 'Modules.ipynb', 'test.xlsx', 'anna_karenina.txt', 'mymodule.py', 'Test_1_Auto.ipynb', 'main.py']\n",
      "---\n",
      "Все пути:\n",
      "Файл  /Users/elenamorozova/Desktop/My_course_materials/Python_auto_5.12/Day2_excel_modules/sales-analytics-main.zip\n",
      "Файл  /Users/elenamorozova/Desktop/My_course_materials/Python_auto_5.12/Day2_excel_modules/excel_lection.ipynb\n",
      "Файл  /Users/elenamorozova/Desktop/My_course_materials/Python_auto_5.12/Day2_excel_modules/.DS_Store\n",
      "Файл  /Users/elenamorozova/Desktop/My_course_materials/Python_auto_5.12/Day2_excel_modules/logs_answers.py\n",
      "Файл  /Users/elenamorozova/Desktop/My_course_materials/Python_auto_5.12/Day2_excel_modules/ТЗ к задаче с логами.pdf\n",
      "Файл  /Users/elenamorozova/Desktop/My_course_materials/Python_auto_5.12/Day2_excel_modules/Modules.ipynb\n",
      "Файл  /Users/elenamorozova/Desktop/My_course_materials/Python_auto_5.12/Day2_excel_modules/test.xlsx\n",
      "Файл  /Users/elenamorozova/Desktop/My_course_materials/Python_auto_5.12/Day2_excel_modules/anna_karenina.txt\n",
      "Файл  /Users/elenamorozova/Desktop/My_course_materials/Python_auto_5.12/Day2_excel_modules/mymodule.py\n",
      "Файл  /Users/elenamorozova/Desktop/My_course_materials/Python_auto_5.12/Day2_excel_modules/Test_1_Auto.ipynb\n",
      "Файл  /Users/elenamorozova/Desktop/My_course_materials/Python_auto_5.12/Day2_excel_modules/main.py\n",
      "Папка  /Users/elenamorozova/Desktop/My_course_materials/Python_auto_5.12/Day2_excel_modules/sales-analytics-main\n",
      "Папка  /Users/elenamorozova/Desktop/My_course_materials/Python_auto_5.12/Day2_excel_modules/.ipynb_checkpoints\n",
      "===\n",
      "Текущая директория /Users/elenamorozova/Desktop/My_course_materials/Python_auto_5.12/Day2_excel_modules/sales-analytics-main\n",
      "---\n",
      "Папок нет\n",
      "---\n",
      "Список файлов ['logs.xlsx', 'report_template.xlsx']\n",
      "---\n",
      "Файл  /Users/elenamorozova/Desktop/My_course_materials/Python_auto_5.12/Day2_excel_modules/sales-analytics-main/logs.xlsx\n",
      "Файл  /Users/elenamorozova/Desktop/My_course_materials/Python_auto_5.12/Day2_excel_modules/sales-analytics-main/report_template.xlsx\n",
      "===\n",
      "Текущая директория /Users/elenamorozova/Desktop/My_course_materials/Python_auto_5.12/Day2_excel_modules/.ipynb_checkpoints\n",
      "---\n",
      "Папок нет\n",
      "---\n",
      "Список файлов ['excel_lection-checkpoint.ipynb', 'Modules-checkpoint.ipynb']\n",
      "---\n",
      "Файл  /Users/elenamorozova/Desktop/My_course_materials/Python_auto_5.12/Day2_excel_modules/.ipynb_checkpoints/excel_lection-checkpoint.ipynb\n",
      "Файл  /Users/elenamorozova/Desktop/My_course_materials/Python_auto_5.12/Day2_excel_modules/.ipynb_checkpoints/Modules-checkpoint.ipynb\n",
      "===\n",
      "Текущая директория /Users/elenamorozova/Desktop/My_course_materials/Python_auto_5.12/Day1_work_ with_files\n",
      "---\n",
      "Список папок ['papka', '.ipynb_checkpoints']\n",
      "---\n",
      "Список файлов ['music.json', 'prices222.csv', 'prices.csv', 'test.json', 'Lab1_Auto_answers.ipynb', 'russian_ensure_ascii.json', 'russian.json', 'Lab1_Auto.ipynb', 'Расширенные_возможности_использования_функций_Работа_с_источниками_данных.ipynb', 'sw_data_w.csv', 'test.txt', 'Dict_task_razbor.ipynb', 'Dict_task.ipynb', 'csv_lection.ipynb', 'prices.txt']\n",
      "---\n",
      "Все пути:\n",
      "Файл  /Users/elenamorozova/Desktop/My_course_materials/Python_auto_5.12/Day1_work_ with_files/music.json\n",
      "Файл  /Users/elenamorozova/Desktop/My_course_materials/Python_auto_5.12/Day1_work_ with_files/prices222.csv\n",
      "Файл  /Users/elenamorozova/Desktop/My_course_materials/Python_auto_5.12/Day1_work_ with_files/prices.csv\n",
      "Файл  /Users/elenamorozova/Desktop/My_course_materials/Python_auto_5.12/Day1_work_ with_files/test.json\n",
      "Файл  /Users/elenamorozova/Desktop/My_course_materials/Python_auto_5.12/Day1_work_ with_files/Lab1_Auto_answers.ipynb\n",
      "Файл  /Users/elenamorozova/Desktop/My_course_materials/Python_auto_5.12/Day1_work_ with_files/russian_ensure_ascii.json\n",
      "Файл  /Users/elenamorozova/Desktop/My_course_materials/Python_auto_5.12/Day1_work_ with_files/russian.json\n",
      "Файл  /Users/elenamorozova/Desktop/My_course_materials/Python_auto_5.12/Day1_work_ with_files/Lab1_Auto.ipynb\n",
      "Файл  /Users/elenamorozova/Desktop/My_course_materials/Python_auto_5.12/Day1_work_ with_files/Расширенные_возможности_использования_функций_Работа_с_источниками_данных.ipynb\n",
      "Файл  /Users/elenamorozova/Desktop/My_course_materials/Python_auto_5.12/Day1_work_ with_files/sw_data_w.csv\n",
      "Файл  /Users/elenamorozova/Desktop/My_course_materials/Python_auto_5.12/Day1_work_ with_files/test.txt\n",
      "Файл  /Users/elenamorozova/Desktop/My_course_materials/Python_auto_5.12/Day1_work_ with_files/Dict_task_razbor.ipynb\n",
      "Файл  /Users/elenamorozova/Desktop/My_course_materials/Python_auto_5.12/Day1_work_ with_files/Dict_task.ipynb\n",
      "Файл  /Users/elenamorozova/Desktop/My_course_materials/Python_auto_5.12/Day1_work_ with_files/csv_lection.ipynb\n",
      "Файл  /Users/elenamorozova/Desktop/My_course_materials/Python_auto_5.12/Day1_work_ with_files/prices.txt\n",
      "Папка  /Users/elenamorozova/Desktop/My_course_materials/Python_auto_5.12/Day1_work_ with_files/papka\n",
      "Папка  /Users/elenamorozova/Desktop/My_course_materials/Python_auto_5.12/Day1_work_ with_files/.ipynb_checkpoints\n",
      "===\n",
      "Текущая директория /Users/elenamorozova/Desktop/My_course_materials/Python_auto_5.12/Day1_work_ with_files/papka\n",
      "---\n",
      "Список папок ['.ipynb_checkpoints']\n",
      "---\n",
      "Список файлов ['data.txt']\n",
      "---\n",
      "Все пути:\n",
      "Файл  /Users/elenamorozova/Desktop/My_course_materials/Python_auto_5.12/Day1_work_ with_files/papka/data.txt\n",
      "Папка  /Users/elenamorozova/Desktop/My_course_materials/Python_auto_5.12/Day1_work_ with_files/papka/.ipynb_checkpoints\n",
      "===\n",
      "Текущая директория /Users/elenamorozova/Desktop/My_course_materials/Python_auto_5.12/Day1_work_ with_files/papka/.ipynb_checkpoints\n",
      "---\n",
      "Папок нет\n",
      "---\n",
      "Файлов нет\n",
      "---\n",
      "===\n",
      "Текущая директория /Users/elenamorozova/Desktop/My_course_materials/Python_auto_5.12/Day1_work_ with_files/.ipynb_checkpoints\n",
      "---\n",
      "Папок нет\n",
      "---\n",
      "Список файлов ['Расширенные_возможности_использования_функций_Работа_с_источниками_данных-checkpoint.ipynb', 'csv_lection-checkpoint.ipynb', 'Dict_task_razbor-checkpoint.ipynb', 'Lab1_Auto-checkpoint.ipynb', 'Lab1_Auto_answers-checkpoint.ipynb']\n",
      "---\n",
      "Файл  /Users/elenamorozova/Desktop/My_course_materials/Python_auto_5.12/Day1_work_ with_files/.ipynb_checkpoints/Расширенные_возможности_использования_функций_Работа_с_источниками_данных-checkpoint.ipynb\n",
      "Файл  /Users/elenamorozova/Desktop/My_course_materials/Python_auto_5.12/Day1_work_ with_files/.ipynb_checkpoints/csv_lection-checkpoint.ipynb\n",
      "Файл  /Users/elenamorozova/Desktop/My_course_materials/Python_auto_5.12/Day1_work_ with_files/.ipynb_checkpoints/Dict_task_razbor-checkpoint.ipynb\n",
      "Файл  /Users/elenamorozova/Desktop/My_course_materials/Python_auto_5.12/Day1_work_ with_files/.ipynb_checkpoints/Lab1_Auto-checkpoint.ipynb\n",
      "Файл  /Users/elenamorozova/Desktop/My_course_materials/Python_auto_5.12/Day1_work_ with_files/.ipynb_checkpoints/Lab1_Auto_answers-checkpoint.ipynb\n",
      "===\n"
     ]
    }
   ],
   "source": [
    "dir = '/Users/elenamorozova/Desktop/My_course_materials/Python_auto_5.12'\n",
    "for root, dirs, files in os.walk(dir):\n",
    "    print(\"Текущая директория\", root)\n",
    "    print(\"---\")\n",
    "    \n",
    "    if dirs:\n",
    "        print(\"Список папок\", dirs)\n",
    "    else:\n",
    "        print(\"Папок нет\")\n",
    "    print(\"---\")\n",
    "    \n",
    "    if files:\n",
    "        print(\"Список файлов\", files)\n",
    "    else:\n",
    "        print(\"Файлов нет\")\n",
    "    print(\"---\")\n",
    "    \n",
    "    if files and dirs:\n",
    "        print(\"Все пути:\")\n",
    "    for f in files:\n",
    "        print(\"Файл \", os.path.join(root, f))\n",
    "    for d in dirs:\n",
    "        print(\"Папка \", os.path.join(root, d))\n",
    "    print(\"===\")"
   ]
  },
  {
   "cell_type": "markdown",
   "id": "867d3129",
   "metadata": {},
   "source": [
    "## Сериализация и Десериализация данных\n",
    "\n",
    "Сериализация данных в программировании - это процесс преобразования объектов в формат, который может быть сохранен или передан, например, в файле или через сеть. Десериализация, с другой стороны, - это процесс восстановления сериализованных данных обратно в исходный объект. В Python для сериализации и десериализации данных часто используются модули pickle и json.\n",
    "\n",
    "![https://app.diagrams.net/#G1hW2mNoQfq5Y49n2TOazzJNmAxIg7WwGz](https://drive.google.com/uc?id=1hW2mNoQfq5Y49n2TOazzJNmAxIg7WwGz)"
   ]
  },
  {
   "cell_type": "markdown",
   "id": "e43fe70d",
   "metadata": {},
   "source": [
    "Пример JSON:\n",
    "    \n",
    "```JavaScript\n",
    "{\n",
    "    \"firstName\": \"Иван\",\n",
    "    \"lastName\": \"Иванов\",\n",
    "    \"address\": {\n",
    "        \"streetAddress\": \"Московское ш., 101, кв.101\",\n",
    "        \"city\": \"Ленинград\",\n",
    "        \"postalCode\": \"101101“\n",
    "    },\n",
    "    \"phoneNumbers\": [\"812 123-1234\", \"916 123-4567“]\n",
    "}\n",
    "```"
   ]
  },
  {
   "cell_type": "code",
   "execution_count": 60,
   "id": "94699df2",
   "metadata": {},
   "outputs": [
    {
     "data": {
      "text/plain": [
       "'{\"firstName\": \"Иван\", \"lastName\": \"Иванов\", \"address\": {\"streetAddress\": \"Московское ш., 101, кв.101\", \"city\": \"Ленинград\", \"postalCode\": \"101101\"}, \"phoneNumbers\": [\"812 123-1234\", \"916 123-4567\"]}'"
      ]
     },
     "execution_count": 60,
     "metadata": {},
     "output_type": "execute_result"
    }
   ],
   "source": [
    "f = open('test.json')\n",
    "data = f.read()\n",
    "data"
   ]
  },
  {
   "cell_type": "code",
   "execution_count": 61,
   "id": "e8a09924",
   "metadata": {},
   "outputs": [],
   "source": [
    "f.close()"
   ]
  },
  {
   "cell_type": "code",
   "execution_count": 62,
   "id": "a3be79a9",
   "metadata": {},
   "outputs": [
    {
     "data": {
      "text/plain": [
       "'e\": \"Иван\", \"lastName\": \"Иванов\", \"addre'"
      ]
     },
     "execution_count": 62,
     "metadata": {},
     "output_type": "execute_result"
    }
   ],
   "source": [
    "data[10:50]"
   ]
  },
  {
   "cell_type": "code",
   "execution_count": 63,
   "id": "7bb41b70",
   "metadata": {},
   "outputs": [
    {
     "data": {
      "text/plain": [
       "{'firstName': 'Иван',\n",
       " 'lastName': 'Иванов',\n",
       " 'address': {'streetAddress': 'Московское ш., 101, кв.101',\n",
       "  'city': 'Ленинград',\n",
       "  'postalCode': '101101'},\n",
       " 'phoneNumbers': ['812 123-1234', '916 123-4567']}"
      ]
     },
     "execution_count": 63,
     "metadata": {},
     "output_type": "execute_result"
    }
   ],
   "source": [
    "# импортируем модуль JSON\n",
    "import json\n",
    "\n",
    "f = open('test.json')\n",
    "data = json.load(f)\n",
    "data"
   ]
  },
  {
   "cell_type": "code",
   "execution_count": 64,
   "id": "6c7dc44b",
   "metadata": {},
   "outputs": [],
   "source": [
    "data[\"address\"]['city'] = 'Москва'"
   ]
  },
  {
   "cell_type": "code",
   "execution_count": 65,
   "id": "57d45a65",
   "metadata": {},
   "outputs": [
    {
     "data": {
      "text/plain": [
       "{'firstName': 'Иван',\n",
       " 'lastName': 'Иванов',\n",
       " 'address': {'streetAddress': 'Московское ш., 101, кв.101',\n",
       "  'city': 'Москва',\n",
       "  'postalCode': '101101'},\n",
       " 'phoneNumbers': ['812 123-1234', '916 123-4567']}"
      ]
     },
     "execution_count": 65,
     "metadata": {},
     "output_type": "execute_result"
    }
   ],
   "source": [
    "data"
   ]
  },
  {
   "cell_type": "markdown",
   "id": "12407a8d",
   "metadata": {},
   "source": [
    "Сериализация и десериализация с помощью модуля json"
   ]
  },
  {
   "cell_type": "code",
   "execution_count": 70,
   "id": "4f010312",
   "metadata": {},
   "outputs": [
    {
     "name": "stdout",
     "output_type": "stream",
     "text": [
      "{\"name\": \"John\", \"age\": 30, \"city\": \"New York\"} <class 'str'>\n",
      "{'name': 'John', 'age': 30, 'city': 'New York'} <class 'dict'>\n"
     ]
    }
   ],
   "source": [
    "import json\n",
    "\n",
    "# Пример сериализации объекта в JSON строку\n",
    "data = {'name': 'John', 'age': 30, 'city': 'New York'}\n",
    "\n",
    "json_string = json.dumps(data)\n",
    "print(json_string, type(json_string))\n",
    "\n",
    "# Пример десериализации объекта из JSON строки\n",
    "loaded_data = json.loads(json_string)\n",
    "\n",
    "print(loaded_data, type(loaded_data)) "
   ]
  },
  {
   "cell_type": "code",
   "execution_count": 72,
   "id": "ae65d76e",
   "metadata": {},
   "outputs": [
    {
     "data": {
      "text/plain": [
       "{'name': 'John', 'age': 30, 'city': 'New York'}"
      ]
     },
     "execution_count": 72,
     "metadata": {},
     "output_type": "execute_result"
    }
   ],
   "source": [
    "# Преобразование JSON строки в Python объект\n",
    "json_string = '{\"name\": \"John\", \"age\": 30, \"city\": \"New York\"}'\n",
    "data = json.loads(json_string)\n",
    "data"
   ]
  },
  {
   "cell_type": "code",
   "execution_count": 73,
   "id": "0f4c370b",
   "metadata": {},
   "outputs": [
    {
     "data": {
      "text/plain": [
       "'{\"name\": \"John\", \"age\": 30, \"city\": \"New York\"}'"
      ]
     },
     "execution_count": 73,
     "metadata": {},
     "output_type": "execute_result"
    }
   ],
   "source": [
    "# Преобразование Python объекта в JSON строку\n",
    "data = {\n",
    "    'name': 'John',\n",
    "    'age': 30,\n",
    "    'city': 'New York'\n",
    "}\n",
    "json_string = json.dumps(data)\n",
    "json_string"
   ]
  },
  {
   "cell_type": "code",
   "execution_count": 74,
   "id": "e5c435f5",
   "metadata": {},
   "outputs": [
    {
     "name": "stdout",
     "output_type": "stream",
     "text": [
      "{\"english text\": \"\\u0440\\u0443\\u0441\\u0441\\u043a\\u0438\\u0439 \\u0442\\u0435\\u043a\\u0441\\u0442\"}\n"
     ]
    }
   ],
   "source": [
    "# json по умолчанию \"не дружит\" с русскими текстами\n",
    "print(json.dumps({\"english text\": \"русский текст\"}))"
   ]
  },
  {
   "cell_type": "code",
   "execution_count": 75,
   "id": "34bd73a9",
   "metadata": {},
   "outputs": [
    {
     "name": "stdout",
     "output_type": "stream",
     "text": [
      "{\"english text\": \"русский текст\"}\n"
     ]
    }
   ],
   "source": [
    "print(\n",
    "    json.dumps(\n",
    "        {\"english text\": \"русский текст\"}, \n",
    "        ensure_ascii=False) # флаг ensure_ascii дает ожидаемый вид текста\n",
    ")  "
   ]
  },
  {
   "cell_type": "code",
   "execution_count": 25,
   "id": "a531d5c2",
   "metadata": {},
   "outputs": [],
   "source": [
    "import json\n",
    "\n",
    "data = {\n",
    "    'name': 'John',\n",
    "    'age': 30,\n",
    "    'city': 'New York'\n",
    "}\n",
    "\n",
    "# Открываем JSON файл для записи\n",
    "with open('file.json', 'w') as json_file:\n",
    "    json.dump(data, json_file)"
   ]
  },
  {
   "cell_type": "markdown",
   "id": "bcfb04e6",
   "metadata": {},
   "source": [
    "Имейте ввиду результат десериализации не всегда эквивалентен исходному объекту."
   ]
  },
  {
   "cell_type": "code",
   "execution_count": 81,
   "id": "4d0d176c",
   "metadata": {},
   "outputs": [],
   "source": [
    "def check_code_decode_json(src):\n",
    "    \n",
    "    json_str = json.dumps(src)\n",
    "    python_obj = json.loads(json_str)\n",
    "\n",
    "    print('Исходный python объект:', repr(src))\n",
    "    print('json строка при сериализации:', repr(json_str))\n",
    "    print('python объект при десериализации', repr(python_obj))\n",
    "    \n",
    "    return src == python_obj"
   ]
  },
  {
   "cell_type": "code",
   "execution_count": 85,
   "id": "fafcc50a",
   "metadata": {},
   "outputs": [
    {
     "name": "stdout",
     "output_type": "stream",
     "text": [
      "Исходный python объект: [1, 2, 3, {'4': 5, '6': 7}]\n",
      "json строка при сериализации: '[1, 2, 3, {\"4\": 5, \"6\": 7}]'\n",
      "python объект при десериализации [1, 2, 3, {'4': 5, '6': 7}]\n"
     ]
    },
    {
     "data": {
      "text/plain": [
       "True"
      ]
     },
     "execution_count": 85,
     "metadata": {},
     "output_type": "execute_result"
    }
   ],
   "source": [
    "src = [1, 2, 3, {\"4\": 5, '6': 7}]\n",
    "check_code_decode_json(src)"
   ]
  },
  {
   "cell_type": "code",
   "execution_count": 86,
   "id": "4e20e047",
   "metadata": {},
   "outputs": [
    {
     "name": "stdout",
     "output_type": "stream",
     "text": [
      "Исходный python объект: [(1, 2, 3)]\n",
      "json строка при сериализации: '[[1, 2, 3]]'\n",
      "python объект при десериализации [[1, 2, 3]]\n"
     ]
    },
    {
     "data": {
      "text/plain": [
       "False"
      ]
     },
     "execution_count": 86,
     "metadata": {},
     "output_type": "execute_result"
    }
   ],
   "source": [
    "# использование tuple\n",
    "src = [(1, 2, 3)]\n",
    "check_code_decode_json(src)"
   ]
  },
  {
   "cell_type": "code",
   "execution_count": 87,
   "id": "271bfbfb",
   "metadata": {},
   "outputs": [
    {
     "name": "stdout",
     "output_type": "stream",
     "text": [
      "Исходный python объект: [{4: 5, 6: 7}]\n",
      "json строка при сериализации: '[{\"4\": 5, \"6\": 7}]'\n",
      "python объект при десериализации [{'4': 5, '6': 7}]\n"
     ]
    },
    {
     "data": {
      "text/plain": [
       "False"
      ]
     },
     "execution_count": 87,
     "metadata": {},
     "output_type": "execute_result"
    }
   ],
   "source": [
    "# в json ключи приводятся к строке, а в неявном виде не десериализуется назад\n",
    "src = [{4: 5, 6: 7}]\n",
    "check_code_decode_json(src)"
   ]
  },
  {
   "cell_type": "markdown",
   "id": "8cd20242",
   "metadata": {},
   "source": [
    "#### Dump и load"
   ]
  },
  {
   "cell_type": "code",
   "execution_count": 48,
   "id": "52e7b8a7",
   "metadata": {},
   "outputs": [],
   "source": [
    "import json\n",
    "\n",
    "data = {\n",
    "    \"firstName\": \"Jane\",\n",
    "    \"lastName\": \"Doe\",\n",
    "    \"hobbies\": [\"running\", \"sky diving\", \"singing\"],\n",
    "    \"age\": 35,\n",
    "    \"children\": [\n",
    "        {\n",
    "            \"firstName\": \"Alice\",\n",
    "            \"age\": 6\n",
    "        },\n",
    "        {\n",
    "            \"firstName\": \"Bob\",\n",
    "            \"age\": 8\n",
    "        }\n",
    "    ]\n",
    "}\n",
    "\n",
    "# Открываем JSON файл для записи\n",
    "with open('file.json', 'w') as json_file:\n",
    "    json.dump(data, json_file)"
   ]
  },
  {
   "cell_type": "code",
   "execution_count": 131,
   "id": "c5eb400b",
   "metadata": {},
   "outputs": [
    {
     "name": "stdout",
     "output_type": "stream",
     "text": [
      "{'age': 35,\n",
      " 'children': [{'age': 6, 'firstName': 'Alice'}, {'age': 8, 'firstName': 'Bob'}],\n",
      " 'firstName': 'Jane',\n",
      " 'hobbies': ['running', 'sky diving', 'singing'],\n",
      " 'lastName': 'Doe'}\n"
     ]
    }
   ],
   "source": [
    "from pprint import pprint\n",
    "\n",
    "with open('file.json') as f:\n",
    "    data = json.load(f)\n",
    "\n",
    "pprint(data) "
   ]
  },
  {
   "cell_type": "markdown",
   "id": "1ffe2fde",
   "metadata": {},
   "source": [
    "## Работа с csv"
   ]
  },
  {
   "cell_type": "code",
   "execution_count": 49,
   "id": "0737ff4f",
   "metadata": {},
   "outputs": [],
   "source": [
    "import csv\n",
    "\n",
    "data = [\n",
    "    ['Name', 'Age', 'City'],\n",
    "    ['John', '30', 'New York'],\n",
    "    ['Alice', '25', 'London'],\n",
    "    ['Bob', '35', 'Paris']\n",
    "]\n",
    "\n",
    "# Открываем CSV файл для записи\n",
    "with open('file.csv', 'w') as csv_file:\n",
    "    csv_writer = csv.writer(csv_file)\n",
    "\n",
    "    # Записываем строки в CSV файл\n",
    "    for row in data:\n",
    "        csv_writer.writerow(row)"
   ]
  },
  {
   "cell_type": "code",
   "execution_count": 50,
   "id": "6e862a29",
   "metadata": {},
   "outputs": [
    {
     "name": "stdout",
     "output_type": "stream",
     "text": [
      "['Name', 'Age', 'City']\n",
      "['John', '30', 'New York']\n",
      "['Alice', '25', 'London']\n",
      "['Bob', '35', 'Paris']\n"
     ]
    }
   ],
   "source": [
    "import csv\n",
    "\n",
    "# Открываем CSV файл для чтения\n",
    "with open('file.csv', 'r') as csv_file:\n",
    "    csv_reader = csv.reader(csv_file)\n",
    "\n",
    "    # Читаем строки CSV файла\n",
    "    for row in csv_reader:\n",
    "        # row - список значений в текущей строке\n",
    "        print(row)\n"
   ]
  },
  {
   "cell_type": "code",
   "execution_count": 111,
   "id": "e8c2f4ab",
   "metadata": {},
   "outputs": [
    {
     "name": "stdout",
     "output_type": "stream",
     "text": [
      "[['Name', 'Age', 'City'], ['John', '30', 'New York'], ['Alice', '25', 'London'], ['Bob', '35', 'Paris']]\n"
     ]
    }
   ],
   "source": [
    "with open('file.csv') as f:\n",
    "    reader = csv.reader(f)\n",
    "    print(list(reader))"
   ]
  },
  {
   "cell_type": "code",
   "execution_count": 112,
   "id": "7ee00ea2",
   "metadata": {},
   "outputs": [
    {
     "name": "stdout",
     "output_type": "stream",
     "text": [
      "Headers:  ['Name', 'Age', 'City']\n",
      "['John', '30', 'New York']\n",
      "['Alice', '25', 'London']\n",
      "['Bob', '35', 'Paris']\n"
     ]
    }
   ],
   "source": [
    "with open('file.csv') as f:\n",
    "    reader = csv.reader(f)\n",
    "    headers = next(reader)\n",
    "    print('Headers: ', headers)\n",
    "    for row in reader:\n",
    "        print(row)"
   ]
  },
  {
   "cell_type": "code",
   "execution_count": 113,
   "id": "76b9cb5e",
   "metadata": {},
   "outputs": [
    {
     "name": "stdout",
     "output_type": "stream",
     "text": [
      "{'Name': 'John', 'Age': '30', 'City': 'New York'}\n",
      "{'Name': 'Alice', 'Age': '25', 'City': 'London'}\n",
      "{'Name': 'Bob', 'Age': '35', 'City': 'Paris'}\n"
     ]
    }
   ],
   "source": [
    "with open('file.csv') as f:\n",
    "    reader = csv.DictReader(f)\n",
    "    for row in reader:\n",
    "        print(row)"
   ]
  },
  {
   "cell_type": "code",
   "execution_count": 114,
   "id": "87d40a38",
   "metadata": {},
   "outputs": [
    {
     "name": "stdout",
     "output_type": "stream",
     "text": [
      "['Name', 'Age', 'City']\n",
      "['John', '30', 'New York']\n",
      "['Alice', '25', 'London']\n",
      "['Bob', '35', 'Paris']\n"
     ]
    }
   ],
   "source": [
    "with open('file.csv') as f:\n",
    "    reader = csv.reader(f, delimiter=',')\n",
    "    for row in reader:\n",
    "        print(row)"
   ]
  },
  {
   "cell_type": "code",
   "execution_count": 27,
   "id": "1e46251b",
   "metadata": {},
   "outputs": [
    {
     "name": "stdout",
     "output_type": "stream",
     "text": [
      "[4, 5, 6]\n"
     ]
    }
   ],
   "source": [
    "a = [5,4,6]\n",
    "a.sort()\n",
    "print(a)"
   ]
  },
  {
   "cell_type": "code",
   "execution_count": null,
   "id": "946147ea",
   "metadata": {},
   "outputs": [],
   "source": []
  }
 ],
 "metadata": {
  "kernelspec": {
   "display_name": "Python 3 (ipykernel)",
   "language": "python",
   "name": "python3"
  },
  "language_info": {
   "codemirror_mode": {
    "name": "ipython",
    "version": 3
   },
   "file_extension": ".py",
   "mimetype": "text/x-python",
   "name": "python",
   "nbconvert_exporter": "python",
   "pygments_lexer": "ipython3",
   "version": "3.10.9"
  }
 },
 "nbformat": 4,
 "nbformat_minor": 5
}
