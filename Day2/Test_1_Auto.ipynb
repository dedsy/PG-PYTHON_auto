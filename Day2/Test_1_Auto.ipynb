{
 "cells": [
  {
   "cell_type": "markdown",
   "id": "c1b2a869",
   "metadata": {},
   "source": [
    "Любая информация, которая хранится на запоминающем устройстве (проще говоря, на компьютере) - это последовательность битов (0 и 1). Файлы - это тоже набор информации, поэтому файл - это тоже последовательность битов.\n",
    "\n",
    "Python содержит специальные классы объектов bytes - это последовательность битов. Любую строку в Python можно перевести в последовательность битов, для этого используется метод строки encode() (от англ. encode - зашифровать).\n",
    "\n",
    "Создадим обычную строку и выведем ее тип, используя встроенную функцию type():"
   ]
  },
  {
   "cell_type": "code",
   "execution_count": 7,
   "id": "ecac5eed",
   "metadata": {},
   "outputs": [
    {
     "name": "stdout",
     "output_type": "stream",
     "text": [
      "<class 'str'>\n"
     ]
    }
   ],
   "source": [
    "s = 'Hello'\n",
    "print(type(s))"
   ]
  },
  {
   "cell_type": "markdown",
   "id": "d54ce7bc",
   "metadata": {},
   "source": [
    "Переменная s - это переменная строкового типа. Переменные строкового типа - это объекты класса str. Теперь переведем строку s в последовательность битов т.е. закодируем строку s, используя метод encode():\n",
    "\n"
   ]
  },
  {
   "cell_type": "code",
   "execution_count": 8,
   "id": "e1c574c6",
   "metadata": {},
   "outputs": [
    {
     "name": "stdout",
     "output_type": "stream",
     "text": [
      "b'Hello'\n",
      "<class 'bytes'>\n"
     ]
    }
   ],
   "source": [
    "s = 'Hello'\n",
    "\n",
    "encode_s = s.encode()\n",
    "print(encode_s)\n",
    "print(type(encode_s))"
   ]
  },
  {
   "cell_type": "markdown",
   "id": "dc8453e3",
   "metadata": {},
   "source": [
    "В результате вывелась такая же строка 'Hello' только с буквой b в начале, при этом тип переменной encode_s - bytes (последовательность битов). На самом деле переменная encode_s уже не равна значению Hello, в ней содержатся закодированные данные. Python выводит начальный текст переменной исключительно для удобства.\n",
    "\n",
    "Попробуем закодировать строку, содержащую русские символы:"
   ]
  },
  {
   "cell_type": "code",
   "execution_count": 9,
   "id": "55dcaf22",
   "metadata": {},
   "outputs": [
    {
     "name": "stdout",
     "output_type": "stream",
     "text": [
      "b'\\xd0\\x9f\\xd1\\x80\\xd0\\xb8\\xd0\\xb2\\xd0\\xb5\\xd1\\x82 World'\n"
     ]
    }
   ],
   "source": [
    "s = 'Привет World'\n",
    "\n",
    "encode_s = s.encode()\n",
    "print(encode_s)\n"
   ]
  },
  {
   "cell_type": "markdown",
   "id": "176d3ee4",
   "metadata": {},
   "source": [
    "Символы латиницы отображаются как прежде, но все символы кириллицы заменились на спецсимволы - закодировались.\n",
    "\n",
    "Метод encode() принимает необязательный параметр encoding, в который передается кодировка, в которую нужно закодировать строку. Если параметр encoding не указан, то по умолчанию используется кодировка utf-8.\n",
    "\n",
    "Для того чтобы раскодировать содержимое объекта типа bytes используется метод decode(). Метод decode() доступен для объектов типа bytes, у обычных строк нет метода decode().\n",
    "\n",
    "Раскодируем закодированную строку:"
   ]
  },
  {
   "cell_type": "code",
   "execution_count": 10,
   "id": "a7bf559d",
   "metadata": {},
   "outputs": [
    {
     "name": "stdout",
     "output_type": "stream",
     "text": [
      "b'\\xd0\\x9f\\xd1\\x80\\xd0\\xb8\\xd0\\xb2\\xd0\\xb5\\xd1\\x82 World'\n",
      "Привет World\n"
     ]
    }
   ],
   "source": [
    "s = 'Привет World'\n",
    "\n",
    "encode_s = s.encode()\n",
    "print(encode_s)\n",
    "\n",
    "decode_s = encode_s.decode()\n",
    "print(decode_s)"
   ]
  },
  {
   "cell_type": "markdown",
   "id": "eec1819c",
   "metadata": {},
   "source": [
    "Один из примеров использования кодировки данных - это передача данных по интернету. Если ты создаешь API функцию, которая возвращает текстовое содержимое, то это текстовое содержимое нужно закодировать, а на стороне приемника раскодировать. В противном случае, при получении данных могут возникнуть ошибки."
   ]
  },
  {
   "cell_type": "markdown",
   "id": "be42a14b",
   "metadata": {},
   "source": [
    "## Задание"
   ]
  },
  {
   "cell_type": "markdown",
   "id": "a8372c89",
   "metadata": {},
   "source": [
    "Создай переменную f - объект файла FILE_NAME в режиме только для чтения с кодировкой 'utf-8'. Выведи объект f в консоль с помощью функции print()."
   ]
  },
  {
   "cell_type": "code",
   "execution_count": 11,
   "id": "a88db434",
   "metadata": {},
   "outputs": [
    {
     "name": "stdout",
     "output_type": "stream",
     "text": [
      "<_io.TextIOWrapper name='anna_karenina.txt' mode='r' encoding='utf-8'>\n"
     ]
    }
   ],
   "source": [
    "FILE_NAME = 'anna_karenina.txt'\n",
    "\n",
    "# Напиши свой код после этой строки\n",
    "with open(FILE_NAME, encoding='utf-8') as f:\n",
    "    print(f)"
   ]
  },
  {
   "cell_type": "markdown",
   "id": "6d1f74da",
   "metadata": {},
   "source": [
    "Создай переменную content - содержимое файла FILE_NAME. Распечатай переменную content."
   ]
  },
  {
   "cell_type": "code",
   "execution_count": 12,
   "id": "7af4b14b",
   "metadata": {},
   "outputs": [
    {
     "name": "stdout",
     "output_type": "stream",
     "text": [
      "Лев Толстой\n",
      "АННА КАРЕНИНА\n",
      "\n",
      "ЧАСТЬ ПЕРВАЯ\n",
      "I\n",
      "Все счастливые семьи похожи друг на друга,\n",
      "каждая несчастливая семья несчастлива по-своему.\n"
     ]
    }
   ],
   "source": [
    "FILE_NAME = 'anna_karenina.txt'\n",
    "with open(FILE_NAME, encoding='utf-8') as f:\n",
    "    print(f.read())"
   ]
  },
  {
   "cell_type": "markdown",
   "id": "d6fd3bfd",
   "metadata": {},
   "source": [
    "Создай переменную content_utf_8 последовательность битов от переменной content в кодировке utf-8. Распечатай переменную content_utf_8."
   ]
  },
  {
   "cell_type": "code",
   "execution_count": 13,
   "id": "b919928b",
   "metadata": {},
   "outputs": [
    {
     "name": "stdout",
     "output_type": "stream",
     "text": [
      "b'\\xd0\\x9b\\xd0\\xb5\\xd0\\xb2 \\xd0\\xa2\\xd0\\xbe\\xd0\\xbb\\xd1\\x81\\xd1\\x82\\xd0\\xbe\\xd0\\xb9\\n\\xd0\\x90\\xd0\\x9d\\xd0\\x9d\\xd0\\x90 \\xd0\\x9a\\xd0\\x90\\xd0\\xa0\\xd0\\x95\\xd0\\x9d\\xd0\\x98\\xd0\\x9d\\xd0\\x90\\n\\n\\xd0\\xa7\\xd0\\x90\\xd0\\xa1\\xd0\\xa2\\xd0\\xac \\xd0\\x9f\\xd0\\x95\\xd0\\xa0\\xd0\\x92\\xd0\\x90\\xd0\\xaf\\nI\\n\\xd0\\x92\\xd1\\x81\\xd0\\xb5 \\xd1\\x81\\xd1\\x87\\xd0\\xb0\\xd1\\x81\\xd1\\x82\\xd0\\xbb\\xd0\\xb8\\xd0\\xb2\\xd1\\x8b\\xd0\\xb5 \\xd1\\x81\\xd0\\xb5\\xd0\\xbc\\xd1\\x8c\\xd0\\xb8 \\xd0\\xbf\\xd0\\xbe\\xd1\\x85\\xd0\\xbe\\xd0\\xb6\\xd0\\xb8 \\xd0\\xb4\\xd1\\x80\\xd1\\x83\\xd0\\xb3 \\xd0\\xbd\\xd0\\xb0 \\xd0\\xb4\\xd1\\x80\\xd1\\x83\\xd0\\xb3\\xd0\\xb0,\\n\\xd0\\xba\\xd0\\xb0\\xd0\\xb6\\xd0\\xb4\\xd0\\xb0\\xd1\\x8f \\xd0\\xbd\\xd0\\xb5\\xd1\\x81\\xd1\\x87\\xd0\\xb0\\xd1\\x81\\xd1\\x82\\xd0\\xbb\\xd0\\xb8\\xd0\\xb2\\xd0\\xb0\\xd1\\x8f \\xd1\\x81\\xd0\\xb5\\xd0\\xbc\\xd1\\x8c\\xd1\\x8f \\xd0\\xbd\\xd0\\xb5\\xd1\\x81\\xd1\\x87\\xd0\\xb0\\xd1\\x81\\xd1\\x82\\xd0\\xbb\\xd0\\xb8\\xd0\\xb2\\xd0\\xb0 \\xd0\\xbf\\xd0\\xbe-\\xd1\\x81\\xd0\\xb2\\xd0\\xbe\\xd0\\xb5\\xd0\\xbc\\xd1\\x83.'\n"
     ]
    }
   ],
   "source": [
    "FILE_NAME = 'anna_karenina.txt'\n",
    "with open(FILE_NAME, encoding='utf-8') as f:\n",
    "    content_utf_8 = f.read().encode()\n",
    "    print(content_utf_8)"
   ]
  },
  {
   "cell_type": "markdown",
   "id": "1a6449fd",
   "metadata": {},
   "source": [
    "Теперь раскодируй объект content_utf_8. Результат сохрани в переменной decode_content. Распечатай переменную decode_content."
   ]
  },
  {
   "cell_type": "code",
   "execution_count": 14,
   "id": "051e1e72",
   "metadata": {},
   "outputs": [
    {
     "name": "stdout",
     "output_type": "stream",
     "text": [
      "Лев Толстой\n",
      "АННА КАРЕНИНА\n",
      "\n",
      "ЧАСТЬ ПЕРВАЯ\n",
      "I\n",
      "Все счастливые семьи похожи друг на друга,\n",
      "каждая несчастливая семья несчастлива по-своему.\n"
     ]
    }
   ],
   "source": [
    "FILE_NAME = 'anna_karenina.txt'\n",
    "with open(FILE_NAME, encoding='utf-8') as f:\n",
    "    content_utf_8 = f.read().encode()\n",
    "    print(content_utf_8.decode())\n"
   ]
  }
 ],
 "metadata": {
  "kernelspec": {
   "display_name": "Python 3 (ipykernel)",
   "language": "python",
   "name": "python3"
  },
  "language_info": {
   "codemirror_mode": {
    "name": "ipython",
    "version": 3
   },
   "file_extension": ".py",
   "mimetype": "text/x-python",
   "name": "python",
   "nbconvert_exporter": "python",
   "pygments_lexer": "ipython3",
   "version": "3.11.4"
  }
 },
 "nbformat": 4,
 "nbformat_minor": 5
}
