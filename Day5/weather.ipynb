{
 "cells": [
  {
   "cell_type": "code",
   "execution_count": null,
   "metadata": {},
   "outputs": [],
   "source": [
    "import pandas as pd\n",
    "import re"
   ]
  },
  {
   "cell_type": "code",
   "execution_count": null,
   "metadata": {},
   "outputs": [],
   "source": [
    "# Читаем нашу страницу с погодой\n",
    "ya_df = pd.read_html('https://yandex.ru/pogoda/month?lat=53.90228271&lon=27.56183052&lang=ru&via=hnav')"
   ]
  },
  {
   "cell_type": "code",
   "execution_count": null,
   "metadata": {},
   "outputs": [],
   "source": [
    "# DataFrame с которым мы будем работать\n",
    "data = ya_df[0]"
   ]
  },
  {
   "cell_type": "code",
   "execution_count": null,
   "metadata": {},
   "outputs": [],
   "source": [
    "# Соединяем в удобный для работы список и сортируем его по числам\n",
    "frames = [data['Пнпонедельник'],\n",
    "          data['Втвторник'],\n",
    "          data['Срсреда'],\n",
    "          data['Чтчетверг'],\n",
    "          data['Птпятница'],\n",
    "          data['Сбсуббота'],\n",
    "          data['Всвоскресенье']]\n",
    "result = pd.concat(frames)\n",
    "\n",
    "sorted_by_day = []\n",
    "for i in range(0, 4):\n",
    "    for x in result[i]:\n",
    "        sorted_by_day.append(x)"
   ]
  },
  {
   "cell_type": "code",
   "execution_count": null,
   "metadata": {},
   "outputs": [],
   "source": [
    "# Создаём списки для данных будушего DataFrame\n",
    "date = []\n",
    "week_day = []\n",
    "w_desc = []\n",
    "day_temp = []\n",
    "night_temp = []\n",
    "pressure = []\n",
    "humidity = []\n",
    "wind_speed = []\n",
    "fl = []"
   ]
  },
  {
   "cell_type": "code",
   "execution_count": null,
   "metadata": {},
   "outputs": [],
   "source": [
    "# Парсим список с данными упорядоченными по датам и записываем в заготовленные списки для каждой колонки\n",
    "for i in sorted_by_day:\n",
    "    pattern_number = r'^\\d{1,2}'\n",
    "    number = re.search(pattern_number, i.split(\",\")[0]).group(0)\n",
    "    pattern_month = r'\\w+$'\n",
    "    month = re.search(pattern_month, i.split(\",\")[0]).group(0)\n",
    "    date.append(number + \" \" + month)\n",
    "\n",
    "    pattern_week_day = r'^\\s\\w+'\n",
    "    week_day_str = re.search(pattern_week_day, i.split(\",\")[2]).group(0).strip().capitalize()\n",
    "    week_day.append(week_day_str)\n",
    "\n",
    "    pattern_w_desc = r'^.*'\n",
    "    w_dec_str = re.search(pattern_w_desc, i.split(\",\")[4].split(';')[-1]).group(0).strip().capitalize()\n",
    "    w_desc.append(w_dec_str)\n",
    "\n",
    "    pattern_temp = r'^\\s\\d{1,2}'\n",
    "    day_temp_str = re.search(pattern_temp, i.split(\",\")[3]).group(0).strip()\n",
    "    day_temp.append(day_temp_str)\n",
    "    night_temp_str = re.search(pattern_temp, i.split(\",\")[4]).group(0).strip()\n",
    "    night_temp.append(night_temp_str)\n",
    "\n",
    "    pattern_pressure = r'\\d{3}\\s\\w{2}\\s\\w{2}.\\s\\w{2}.'\n",
    "    pressure_str = re.search(pattern_pressure, i.split(\",\")[1]).group(0)\n",
    "    pressure.append(pressure_str)\n",
    "\n",
    "    pattern_humidity = r'\\d{1,3}%'\n",
    "    humidity_str = re.search(pattern_humidity, i.split(\",\")[1]).group(0)\n",
    "    humidity.append(humidity_str)\n",
    "\n",
    "    pattern_wind_speed = r'\\d{1,2}\\.\\d{1}\\s\\w\\/\\w|\\d{1,2}\\s\\w\\/\\w'\n",
    "    wind_speed_str = re.search(pattern_wind_speed, i.split(\",\")[1]).group(0)\n",
    "    wind_speed.append(wind_speed_str)\n",
    "\n",
    "    pattern_fl = r'\\d{4,5}'\n",
    "    fl_str = re.search(pattern_fl, i.split(\",\")[1]).group(0)\n",
    "\n",
    "    if len(fl_str) > 4:\n",
    "        fl_str = fl_str[0:2]\n",
    "    else:\n",
    "        fl_str = fl_str[0]\n",
    "\n",
    "    fl.append(fl_str)"
   ]
  },
  {
   "cell_type": "code",
   "execution_count": null,
   "metadata": {},
   "outputs": [],
   "source": [
    "# Создаем и заполняем DataFrame\n",
    "result_df = pd.DataFrame(date, columns=['Date'])\n",
    "result_df['Week day'] = week_day\n",
    "result_df['Weather'] = w_desc\n",
    "result_df['Day Temp'] = day_temp\n",
    "result_df['Feels like'] = fl\n",
    "result_df['Night Temp'] = night_temp\n",
    "result_df['Pressure'] = pressure\n",
    "result_df['Humidity'] = humidity\n",
    "result_df['Wind speed'] = wind_speed"
   ]
  },
  {
   "cell_type": "code",
   "execution_count": null,
   "metadata": {},
   "outputs": [],
   "source": [
    "result_df"
   ]
  }
 ],
 "metadata": {
  "kernelspec": {
   "display_name": "Python 3",
   "language": "python",
   "name": "python3"
  },
  "language_info": {
   "codemirror_mode": {
    "name": "ipython",
    "version": 3
   },
   "file_extension": ".py",
   "mimetype": "text/x-python",
   "name": "python",
   "nbconvert_exporter": "python",
   "pygments_lexer": "ipython3",
   "version": "3.11.4"
  },
  "orig_nbformat": 4
 },
 "nbformat": 4,
 "nbformat_minor": 2
}
