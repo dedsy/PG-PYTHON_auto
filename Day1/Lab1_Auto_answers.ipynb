{
 "cells": [
  {
   "cell_type": "markdown",
   "id": "d63672ca",
   "metadata": {},
   "source": [
    "Задание 1.\n",
    "\n",
    "Имеется текстовый файл prices.txt с информацией о заказе из интернет магазина. В нем каждая строка с помощью символа табуляции \\t разделена на три колонки:\n",
    "наименование товара;\n",
    "количество товара (целое число);\n",
    "цена (в рублях) товара за 1 шт. (целое число).\n",
    "Напишите программу, преобразующую данные из txt в csv.\n"
   ]
  },
  {
   "cell_type": "code",
   "execution_count": 1,
   "id": "d4618bc7",
   "metadata": {},
   "outputs": [],
   "source": [
    "import csv \n",
    "\n",
    "with open('prices.csv', 'w') as f:\n",
    "    with open('prices.txt') as data:\n",
    "        writer = csv.writer(f)\n",
    "        for row in data:\n",
    "            writer.writerow(row.replace('\\n','').split('\\t'))"
   ]
  },
  {
   "cell_type": "code",
   "execution_count": 8,
   "id": "261919e1",
   "metadata": {},
   "outputs": [
    {
     "name": "stdout",
     "output_type": "stream",
     "text": [
      "Молоко\t2\t90\n",
      "\n",
      "Сыр\t1\t140\n",
      "\n",
      "Картофель\t2\t35\n",
      "\n",
      "Хлеб(батон)\t2\t27\n",
      "\n",
      "Сахар\t1\t60\n",
      "\n",
      "Макароны\t1\t100\n",
      "\n",
      "Шоколад\t5\t65\n"
     ]
    }
   ],
   "source": [
    "with open('prices.txt') as data:\n",
    "     for row in data:\n",
    "        print(row)"
   ]
  },
  {
   "cell_type": "code",
   "execution_count": 9,
   "id": "6d1546ca",
   "metadata": {},
   "outputs": [
    {
     "name": "stdout",
     "output_type": "stream",
     "text": [
      "Молоко\t2\t90\n",
      "Сыр\t1\t140\n",
      "Картофель\t2\t35\n",
      "Хлеб(батон)\t2\t27\n",
      "Сахар\t1\t60\n",
      "Макароны\t1\t100\n",
      "Шоколад\t5\t65\n"
     ]
    }
   ],
   "source": [
    "with open('prices.txt') as data:\n",
    "     for row in data:\n",
    "        print(row.replace('\\n',''))"
   ]
  },
  {
   "cell_type": "code",
   "execution_count": 15,
   "id": "2baf61a4",
   "metadata": {},
   "outputs": [
    {
     "name": "stdout",
     "output_type": "stream",
     "text": [
      "['Молоко', '2', '90']\n",
      "['Сыр', '1', '140']\n",
      "['Картофель', '2', '35']\n",
      "['Хлеб(батон)', '2', '27']\n",
      "['Сахар', '1', '60']\n",
      "['Макароны', '1', '100']\n",
      "['Шоколад', '5', '65']\n"
     ]
    }
   ],
   "source": [
    "with open('prices.txt') as data:\n",
    "    f2 = data.read()\n",
    "    f2 = f2.split('\\n')\n",
    "    for row in f2:\n",
    "        print(row.split('\\t'))"
   ]
  },
  {
   "cell_type": "code",
   "execution_count": 16,
   "id": "3be1492f",
   "metadata": {},
   "outputs": [],
   "source": [
    "with open('prices222.csv', 'w') as f:\n",
    "    with open('prices.txt') as data:\n",
    "        writer = csv.writer(f)\n",
    "        f2 = data.read()\n",
    "        f2 = f2.split('\\n')\n",
    "        for row in f2:\n",
    "            writer.writerow(row.split('\\t'))"
   ]
  },
  {
   "cell_type": "markdown",
   "id": "7c8595e0",
   "metadata": {},
   "source": [
    "Задача 2.\n",
    "Имеется файл prices.csv с информацией о заказе из интернет магазина. В нем каждая строка содержит три колонки:\n",
    "наименование товара;\n",
    "количество товара (целое число);\n",
    "цена (в рублях) товара за 1 шт. (целое число).\n",
    "Напишите программу, подсчитывающую общую стоимость заказа.\n"
   ]
  },
  {
   "cell_type": "code",
   "execution_count": 12,
   "id": "cd3d41c7",
   "metadata": {},
   "outputs": [
    {
     "name": "stdout",
     "output_type": "stream",
     "text": [
      "929\n"
     ]
    }
   ],
   "source": [
    "import csv\n",
    "\n",
    "summ = 0\n",
    "\n",
    "with open('prices.csv') as f:\n",
    "    reader = csv.reader(f)\n",
    "    for row in reader:\n",
    "        summ+= int(row[1])*int(row[2])\n",
    "        \n",
    "print(summ)"
   ]
  },
  {
   "cell_type": "markdown",
   "id": "d5880932",
   "metadata": {},
   "source": [
    "Вам были переданы данные с количеством концертов каждого исполнителя (помесячно в виде списка, с января по декабрь) в файле music.json, средний размер гонорара за один концерт в этом месяце (помесячно, в млн рублей), стилем исполнения. Обратите внимание, что один исполнитель может выступать в разных стилях. Но каждый концерт возможно играть только в одном стиле. \n",
    "Еще один нюанс, некоторые музыканты играют только в декабре на новогодних корпоративах. В таком случае, количество их концертов и гонорар указаны только за декабрь.\n",
    "Стили, количество музыкантов, их средние за концерт гонорары и количество концертов может отличаться в тестовом файле. Однако структура файла останется.\n",
    "Необходимо вывести 3 значения:\n",
    "- название музыкального стиля, который приносит музыкантам больше всего денег\n",
    "- номер месяца в году, в котором на этом стиле можно заработать больше всего\n",
    "- название музыкальной группы, которая меньше всего зарабатывает в этом месяце\n"
   ]
  },
  {
   "cell_type": "code",
   "execution_count": null,
   "id": "acf2f506",
   "metadata": {},
   "outputs": [],
   "source": [
    "d = {} #входной словарь с данными\n",
    "\n",
    "styles = {} #шаблон 'style':{ежемесячный доход}\n",
    "styles_results = {} #шаблон 'style':доход за год\n",
    "bands = {} #шаблон 'band':{ежемесячный доход}\n",
    "monthly_fee = {'1':0, '2':0, '3':0, '4':0, '5':0, '6':0, '7':0, '8':0, '9':0, '10':0, '11':0, '12':0} #шаблон словаря {ежемесячный доход}\n",
    "\n",
    "for band in d[\"artists\"]:\n",
    "\n",
    "    #проходим данные по всем группам и заполняем словарь bands, где ключи - названия групп, значения - словарь с доходом по месяцам\n",
    "    if band['name'] not in bands.keys():\n",
    "        bands[band['name']] = monthly_fee.copy()\n",
    "    for month in bands[band['name']].keys():\n",
    "        bands[band['name']][month] += band[\"monthly_calendar\"][int(month)-1]*band[\"fee\"][int(month)-1]\n",
    "\n",
    "    #проходим данные по всем группам и заполняем словарь styles, где ключи - названия стилей, значения - словарь с доходом по месяцам\n",
    "    if band['musical_style'] not in styles.keys():\n",
    "        styles[band['musical_style']] = monthly_fee.copy()\n",
    "    for month in styles[band['musical_style']].keys():\n",
    "        styles[band['musical_style']][month] += band[\"monthly_calendar\"][int(month)-1]*band[\"fee\"][int(month)-1]\n",
    "\n",
    "#Составляем словарь styles_results с названиями всех стилей и их годовым доходом \n",
    "for k,v in styles.items():\n",
    "    styles_results[k] = sum(v.values())\n",
    "\n",
    "#Находим стиль с максимальным доходом\n",
    "max_style = 0\n",
    "for k,v in styles_results.items():\n",
    "    if v>max_style:\n",
    "        max_style = v\n",
    "        style = k\n",
    "\n",
    "#Находим месяц с этим стилем с максимальным доходом\n",
    "max_month = 0\n",
    "for k,v in styles[style].items():\n",
    "    if v>max_month:\n",
    "        max_month = v\n",
    "        month = k\n",
    "        \n",
    "#Находим группу, у которой в этом месяце минимальный доход\n",
    "min_band = sum(styles_results.values()) #оценить порог для мин дохода сложно, не зная данных, поэтому взяли сумму доходов всех стилей\n",
    "for k,v in bands.items():\n",
    "    if v[month]<min_band:\n",
    "        min_band = v[month]\n",
    "        band = k\n",
    "\n",
    "print(f'''\n",
    "{style} приносит музыкантам больше всего денег\n",
    "\n",
    "в {month} месяце на этом стиле можно заработать больше всего\n",
    "\n",
    "{band} меньше всего зарабатывает в этом месяце\n",
    "''')"
   ]
  },
  {
   "cell_type": "markdown",
   "id": "12b59173",
   "metadata": {},
   "source": [
    "Дан список с заголовками и список списков с данными, где каждый отдельный список представляет собой строку для csv.\n",
    "Без использования модуля `csv` записать данные в файл **output.csv**.\n",
    "Реализовать функцию `to_csv_file`, которая будет записывать передаваемые ей данные в формате csv.\n",
    "Функция `to_csv_file` должна принимать следующие аргументы:\n",
    "- filename - файл куда надо записывать\n",
    "- headers - список заголовков\n",
    "- rows список списков с данными\n",
    "- delimiter - разделитель между значениями, по умолчанию \",\"\n",
    "- new_line - разделитель строк, по умолчанию \"\\n\"."
   ]
  },
  {
   "cell_type": "code",
   "execution_count": 13,
   "id": "394f1d24",
   "metadata": {},
   "outputs": [
    {
     "name": "stdout",
     "output_type": "stream",
     "text": [
      "longitude,latitude,housing_median_age,total_rooms,total_bedrooms,population,households,median_income,median_house_value\n",
      "-122.050000,37.370000,27.000000,3885.000000,661.000000,1537.000000,606.000000,6.608500,344700.000000\n",
      "-118.300000,34.260000,43.000000,1510.000000,310.000000,809.000000,277.000000,3.599000,176500.000000\n",
      "-117.810000,33.780000,27.000000,3589.000000,507.000000,1484.000000,495.000000,5.793400,270500.000000\n",
      "-118.360000,33.820000,28.000000,67.000000,15.000000,49.000000,11.000000,6.135900,330000.000000\n"
     ]
    }
   ],
   "source": [
    "OUTPUT_FILE = \"output.csv\"\n",
    "\n",
    "\n",
    "def to_csv_file(\n",
    "        filename: str, headers: list[str], rows: list[list[str]],\n",
    "        delimiter: str = \",\", new_line: str = \"\\n\"\n",
    ") -> None:\n",
    "    with open(filename, \"w\") as f:\n",
    "        f.write(delimiter.join(headers) + new_line)\n",
    "\n",
    "        f.writelines([delimiter.join(row) + new_line for row in rows])\n",
    "\n",
    "\n",
    "headers_list = ['longitude', 'latitude', 'housing_median_age', 'total_rooms', 'total_bedrooms', 'population', 'households', 'median_income', 'median_house_value']\n",
    "data = [\n",
    "    ['-122.050000', '37.370000', '27.000000', '3885.000000', '661.000000', '1537.000000', '606.000000', '6.608500', '344700.000000'],\n",
    "    ['-118.300000', '34.260000', '43.000000', '1510.000000', '310.000000', '809.000000', '277.000000', '3.599000', '176500.000000'],\n",
    "    ['-117.810000', '33.780000', '27.000000', '3589.000000', '507.000000', '1484.000000', '495.000000', '5.793400', '270500.000000'],\n",
    "    ['-118.360000', '33.820000', '28.000000', '67.000000', '15.000000', '49.000000', '11.000000', '6.135900', '330000.000000'],\n",
    "]\n",
    "\n",
    "to_csv_file(OUTPUT_FILE, headers_list, data)\n",
    "\n",
    "with open(OUTPUT_FILE) as output_f:\n",
    "    for line in output_f:\n",
    "        print(line, end=\"\")"
   ]
  },
  {
   "cell_type": "markdown",
   "id": "3f8b9a40",
   "metadata": {},
   "source": [
    "Реализовать конвертер из csv в json формат:\n",
    "```text\n",
    "[{column -> value}, ... , {column -> value}]\n",
    "```\n",
    "- название столбца — значение (аналог `DictReader` из модуля `csv`).\n",
    "Для csv формата принять\n",
    "- разделитель между значениями, по умолчанию \",\"\n",
    "- разделитель строк, по умолчанию \"\\n\".\n",
    "Встроенным модулем `csv` пользоваться нельзя, `json` можно.\n",
    "В результате распечатать json строку с отступами равными 4.\n"
   ]
  },
  {
   "cell_type": "code",
   "execution_count": 14,
   "id": "ca181f08",
   "metadata": {},
   "outputs": [
    {
     "name": "stdout",
     "output_type": "stream",
     "text": [
      "[\n",
      "    {\n",
      "        \"longitude\": \"-122.050000\",\n",
      "        \"latitude\": \"37.370000\",\n",
      "        \"housing_median_age\": \"27.000000\",\n",
      "        \"total_rooms\": \"3885.000000\",\n",
      "        \"total_bedrooms\": \"661.000000\",\n",
      "        \"population\": \"1537.000000\",\n",
      "        \"households\": \"606.000000\",\n",
      "        \"median_income\": \"6.608500\",\n",
      "        \"median_house_value\": \"344700.000000\"\n",
      "    },\n",
      "    {\n",
      "        \"longitude\": \"-118.300000\",\n",
      "        \"latitude\": \"34.260000\",\n",
      "        \"housing_median_age\": \"43.000000\",\n",
      "        \"total_rooms\": \"1510.000000\",\n",
      "        \"total_bedrooms\": \"310.000000\",\n",
      "        \"population\": \"809.000000\",\n",
      "        \"households\": \"277.000000\",\n",
      "        \"median_income\": \"3.599000\",\n",
      "        \"median_house_value\": \"176500.000000\"\n",
      "    },\n",
      "    {\n",
      "        \"longitude\": \"-117.810000\",\n",
      "        \"latitude\": \"33.780000\",\n",
      "        \"housing_median_age\": \"27.000000\",\n",
      "        \"total_rooms\": \"3589.000000\",\n",
      "        \"total_bedrooms\": \"507.000000\",\n",
      "        \"population\": \"1484.000000\",\n",
      "        \"households\": \"495.000000\",\n",
      "        \"median_income\": \"5.793400\",\n",
      "        \"median_house_value\": \"270500.000000\"\n",
      "    },\n",
      "    {\n",
      "        \"longitude\": \"-118.360000\",\n",
      "        \"latitude\": \"33.820000\",\n",
      "        \"housing_median_age\": \"28.000000\",\n",
      "        \"total_rooms\": \"67.000000\",\n",
      "        \"total_bedrooms\": \"15.000000\",\n",
      "        \"population\": \"49.000000\",\n",
      "        \"households\": \"11.000000\",\n",
      "        \"median_income\": \"6.135900\",\n",
      "        \"median_house_value\": \"330000.000000\"\n",
      "    }\n",
      "]\n"
     ]
    }
   ],
   "source": [
    "import json\n",
    "\n",
    "INPUT_FILE = \"output.csv\"\n",
    "\n",
    "\n",
    "def csv_to_list_dict(filename: str, delimiter: str = \",\") -> list[dict]:\n",
    "    with open(filename) as f:\n",
    "        headers_str = f.readline()[:-1]\n",
    "        headers = headers_str.split(delimiter)\n",
    "\n",
    "        data = []\n",
    "        for row in f:\n",
    "            row = row[:-1]\n",
    "            row_values = row.split(delimiter)\n",
    "\n",
    "            data.append(dict(zip(headers, row_values)))\n",
    "\n",
    "    return data\n",
    "\n",
    "\n",
    "print(json.dumps(csv_to_list_dict(INPUT_FILE), indent=4))"
   ]
  },
  {
   "cell_type": "code",
   "execution_count": null,
   "id": "8d8a7a75",
   "metadata": {},
   "outputs": [],
   "source": []
  }
 ],
 "metadata": {
  "kernelspec": {
   "display_name": "Python 3 (ipykernel)",
   "language": "python",
   "name": "python3"
  },
  "language_info": {
   "codemirror_mode": {
    "name": "ipython",
    "version": 3
   },
   "file_extension": ".py",
   "mimetype": "text/x-python",
   "name": "python",
   "nbconvert_exporter": "python",
   "pygments_lexer": "ipython3",
   "version": "3.9.7"
  }
 },
 "nbformat": 4,
 "nbformat_minor": 5
}
